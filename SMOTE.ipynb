{
 "cells": [
  {
   "cell_type": "code",
   "execution_count": 1,
   "id": "aa2f25b5",
   "metadata": {},
   "outputs": [],
   "source": [
    "import pandas as pd\n",
    "import numpy as np\n",
    "import seaborn as sns\n",
    "from sklearn.preprocessing import OneHotEncoder, LabelEncoder\n",
    "from sklearn.compose import make_column_selector as selector\n",
    "from sklearn.metrics import mean_squared_error\n",
    "from sklearn.model_selection import train_test_split\n",
    "from sklearn.preprocessing import StandardScaler\n",
    "from imblearn.over_sampling import SMOTE\n",
    "from sklearn.linear_model import LogisticRegression\n",
    "from sklearn.ensemble import RandomForestClassifier\n",
    "from xgboost import XGBClassifier\n",
    "from sklearn.metrics import classification_report\n",
    "from sklearn.metrics import mean_absolute_error, mean_squared_error\n",
    "import matplotlib.pyplot as plt\n",
    "from sklearn.metrics import confusion_matrix, plot_confusion_matrix\n",
    "import warnings\n",
    "warnings.filterwarnings('ignore')"
   ]
  },
  {
   "cell_type": "code",
   "execution_count": 2,
   "id": "23ea3138",
   "metadata": {},
   "outputs": [],
   "source": [
    "# all columns are numerical (categorical columns have been converted)\n",
    "df = pd.read_csv('df.csv')\n",
    "df.drop(columns=['Unnamed: 0'], axis=1, inplace=True)"
   ]
  },
  {
   "cell_type": "code",
   "execution_count": 3,
   "id": "5daeb3c6",
   "metadata": {},
   "outputs": [],
   "source": [
    "# for predicting shipping on time and late delivery \n",
    "df = pd.read_csv('df_ontime_vs_late.csv')\n",
    "df.drop(columns=['Unnamed: 0'], axis=1, inplace=True)"
   ]
  },
  {
   "cell_type": "code",
   "execution_count": 4,
   "id": "0e004715",
   "metadata": {},
   "outputs": [],
   "source": [
    "df = df.drop(columns=[\n",
    "    'Late_delivery_risk'\n",
    "], axis=1)"
   ]
  },
  {
   "cell_type": "code",
   "execution_count": 5,
   "id": "5ab035a3",
   "metadata": {
    "scrolled": true
   },
   "outputs": [],
   "source": [
    "df_obj = df.select_dtypes(include='object')\n",
    "df_obj.drop(columns=['Delivery Status'], axis=1, inplace=True)"
   ]
  },
  {
   "cell_type": "code",
   "execution_count": 6,
   "id": "9b079ce5",
   "metadata": {},
   "outputs": [],
   "source": [
    "#one hot encoder\n",
    "def onehotencoder(col):\n",
    "    \n",
    "    ohe = OneHotEncoder()\n",
    "    ohe_array = ohe.fit_transform((pd.DataFrame(col))).toarray()\n",
    "\n",
    "    feature_labels = np.array(ohe.categories_).ravel()\n",
    "\n",
    "\n",
    "    df_obj = pd.DataFrame(ohe_array, columns=feature_labels)\n",
    "    \n",
    "    return df_obj"
   ]
  },
  {
   "cell_type": "code",
   "execution_count": 7,
   "id": "ebbcd62f",
   "metadata": {
    "scrolled": true
   },
   "outputs": [],
   "source": [
    "df_ohe = pd.DataFrame()\n",
    "for c in df_obj.columns:\n",
    "    one_hot = onehotencoder(df_obj[c])\n",
    "    df_ohe = pd.concat([df_ohe, one_hot], axis=1) "
   ]
  },
  {
   "cell_type": "code",
   "execution_count": 8,
   "id": "486a7b99",
   "metadata": {},
   "outputs": [],
   "source": [
    "df_cont_var = df.select_dtypes(exclude='object')"
   ]
  },
  {
   "cell_type": "code",
   "execution_count": 9,
   "id": "8e0830c2",
   "metadata": {},
   "outputs": [],
   "source": [
    "df_ohe = pd.concat([df_cont_var, df_ohe], axis=1)"
   ]
  },
  {
   "cell_type": "code",
   "execution_count": 10,
   "id": "66963b1f",
   "metadata": {},
   "outputs": [],
   "source": [
    "df_ohe.dropna(inplace=True)"
   ]
  },
  {
   "cell_type": "code",
   "execution_count": 11,
   "id": "cc44a569",
   "metadata": {},
   "outputs": [],
   "source": [
    "# y variable values set equal to label encode the dataframes column being used for y\n",
    "le = LabelEncoder()\n",
    "y = le.fit_transform(df['Delivery Status'])"
   ]
  },
  {
   "cell_type": "code",
   "execution_count": 12,
   "id": "96149215",
   "metadata": {},
   "outputs": [],
   "source": [
    "# x variable\n",
    "X = df_ohe"
   ]
  },
  {
   "cell_type": "code",
   "execution_count": 13,
   "id": "c8964458",
   "metadata": {},
   "outputs": [],
   "source": [
    "X_train, X_test, y_train, y_test = train_test_split(X, y, train_size=.8, test_size=.2)"
   ]
  },
  {
   "cell_type": "markdown",
   "id": "d48ce793",
   "metadata": {},
   "source": [
    "### SMOTE"
   ]
  },
  {
   "cell_type": "code",
   "execution_count": 14,
   "id": "969063f7",
   "metadata": {},
   "outputs": [
    {
     "data": {
      "text/plain": [
       "StandardScaler()"
      ]
     },
     "execution_count": 14,
     "metadata": {},
     "output_type": "execute_result"
    }
   ],
   "source": [
    "# scaling data\n",
    "scaler = StandardScaler()\n",
    "scaler.fit(X_train)"
   ]
  },
  {
   "cell_type": "code",
   "execution_count": 15,
   "id": "a472b5ca",
   "metadata": {},
   "outputs": [],
   "source": [
    "scaler_x_train = scaler.transform(X_train)"
   ]
  },
  {
   "cell_type": "code",
   "execution_count": 16,
   "id": "3ea238e6",
   "metadata": {},
   "outputs": [],
   "source": [
    "scaler.fit(X_test)\n",
    "scaler_x_test = scaler.transform(X_test)"
   ]
  },
  {
   "cell_type": "code",
   "execution_count": 17,
   "id": "c4553386",
   "metadata": {},
   "outputs": [],
   "source": [
    "# Synthetic minority over sampling\n",
    "smote =  SMOTE()\n",
    "x_smote_train, y_smote_train = smote.fit_resample(scaler_x_train, y_train)"
   ]
  },
  {
   "cell_type": "markdown",
   "id": "5e1e2264",
   "metadata": {},
   "source": [
    "##### Logistic Regression Models"
   ]
  },
  {
   "cell_type": "markdown",
   "id": "12490763",
   "metadata": {},
   "source": [
    "##### Training Model"
   ]
  },
  {
   "cell_type": "code",
   "execution_count": 18,
   "id": "0fb7ee18",
   "metadata": {},
   "outputs": [],
   "source": [
    "logistic_regression = LogisticRegression(random_state=42)\n",
    "logistic_regression.fit(x_smote_train, y_smote_train)\n",
    "lr_pred_train = logistic_regression.predict(x_smote_train)"
   ]
  },
  {
   "cell_type": "code",
   "execution_count": 19,
   "id": "7418bde3",
   "metadata": {
    "scrolled": false
   },
   "outputs": [
    {
     "name": "stdout",
     "output_type": "stream",
     "text": [
      "                  precision    recall  f1-score   support\n",
      "\n",
      "   Late delivery       0.85      0.56      0.67     79027\n",
      "Shipping on time       0.67      0.90      0.77     79027\n",
      "\n",
      "        accuracy                           0.73    158054\n",
      "       macro avg       0.76      0.73      0.72    158054\n",
      "    weighted avg       0.76      0.73      0.72    158054\n",
      "\n"
     ]
    }
   ],
   "source": [
    "print(classification_report(y_smote_train, lr_pred_train,  target_names=le.classes_))"
   ]
  },
  {
   "cell_type": "code",
   "execution_count": 20,
   "id": "e8294d0e",
   "metadata": {
    "scrolled": true
   },
   "outputs": [
    {
     "name": "stdout",
     "output_type": "stream",
     "text": [
      "Mean Absolute Error: 0.27124906677464666\n",
      "Mean Squared Error: 0.27124906677464666\n",
      "Root Mean Squared Error: 0.5208157704742116\n"
     ]
    }
   ],
   "source": [
    "print('Mean Absolute Error:', mean_absolute_error(y_smote_train, lr_pred_train))\n",
    "print('Mean Squared Error:', mean_squared_error(y_smote_train, lr_pred_train))  \n",
    "print('Root Mean Squared Error:', np.sqrt(mean_squared_error(y_smote_train, lr_pred_train)))"
   ]
  },
  {
   "cell_type": "code",
   "execution_count": 21,
   "id": "f50fc051",
   "metadata": {
    "scrolled": true
   },
   "outputs": [
    {
     "data": {
      "image/png": "[encoded data removed]",
      "text/plain": [
       "<Figure size 432x288 with 2 Axes>"
      ]
     },
     "metadata": {
      "needs_background": "light"
     },
     "output_type": "display_data"
    }
   ],
   "source": [
    "plot_confusion_matrix(logistic_regression, x_smote_train, y_smote_train,\n",
    "                      cmap=plt.cm.Blues)\n",
    "\n",
    "plt.xticks(ticks=range(0,len(le.classes_)),labels=le.classes_, )\n",
    "plt.yticks(ticks=range(0,len(le.classes_)),labels=le.classes_)\n",
    "\n",
    "plt.show()"
   ]
  },
  {
   "cell_type": "markdown",
   "id": "904190d2",
   "metadata": {},
   "source": [
    "##### Testing Model"
   ]
  },
  {
   "cell_type": "code",
   "execution_count": 22,
   "id": "02ab1411",
   "metadata": {},
   "outputs": [],
   "source": [
    "lr_pred_test = logistic_regression.predict(scaler_x_test)"
   ]
  },
  {
   "cell_type": "code",
   "execution_count": 23,
   "id": "f588c2df",
   "metadata": {},
   "outputs": [
    {
     "name": "stdout",
     "output_type": "stream",
     "text": [
      "                  precision    recall  f1-score   support\n",
      "\n",
      "   Late delivery       0.88      0.56      0.68     19949\n",
      "Shipping on time       0.60      0.89      0.71     14604\n",
      "\n",
      "        accuracy                           0.70     34553\n",
      "       macro avg       0.74      0.72      0.70     34553\n",
      "    weighted avg       0.76      0.70      0.70     34553\n",
      "\n"
     ]
    }
   ],
   "source": [
    "print(classification_report(y_test, lr_pred_test, target_names=le.classes_))"
   ]
  },
  {
   "cell_type": "code",
   "execution_count": 24,
   "id": "0d5fd997",
   "metadata": {
    "scrolled": true
   },
   "outputs": [
    {
     "name": "stdout",
     "output_type": "stream",
     "text": [
      "Mean Absolute Error: 0.301131594941105\n",
      "Mean Squared Error: 0.301131594941105\n",
      "Root Mean Squared Error: 0.5487545853485919\n"
     ]
    }
   ],
   "source": [
    "print('Mean Absolute Error:', mean_absolute_error(y_test, lr_pred_test))\n",
    "print('Mean Squared Error:', mean_squared_error(y_test, lr_pred_test))  \n",
    "print('Root Mean Squared Error:', np.sqrt(mean_squared_error(y_test, lr_pred_test)))"
   ]
  },
  {
   "cell_type": "code",
   "execution_count": 25,
   "id": "d09b4937",
   "metadata": {
    "scrolled": true
   },
   "outputs": [
    {
     "data": {
      "image/png": "[encoded data removed]",
      "text/plain": [
       "<Figure size 432x288 with 2 Axes>"
      ]
     },
     "metadata": {
      "needs_background": "light"
     },
     "output_type": "display_data"
    }
   ],
   "source": [
    "plot_confusion_matrix(logistic_regression, scaler_x_test, y_test,\n",
    "                      cmap=plt.cm.Blues)\n",
    "\n",
    "plt.xticks(ticks=range(0,len(le.classes_)),labels=le.classes_, )\n",
    "plt.yticks(ticks=range(0,len(le.classes_)),labels=le.classes_)\n",
    "\n",
    "plt.show()"
   ]
  },
  {
   "cell_type": "markdown",
   "id": "54558f53",
   "metadata": {},
   "source": [
    "#### Random Forest Models"
   ]
  },
  {
   "cell_type": "markdown",
   "id": "db6362eb",
   "metadata": {},
   "source": [
    "##### Training Models"
   ]
  },
  {
   "cell_type": "code",
   "execution_count": 26,
   "id": "dcf323df",
   "metadata": {},
   "outputs": [],
   "source": [
    "rfc = RandomForestClassifier()\n",
    "rfc.fit(x_smote_train, y_smote_train)\n",
    "rfc_pred_train = rfc.predict(x_smote_train)"
   ]
  },
  {
   "cell_type": "code",
   "execution_count": 27,
   "id": "dc1d0e16",
   "metadata": {},
   "outputs": [
    {
     "name": "stdout",
     "output_type": "stream",
     "text": [
      "                  precision    recall  f1-score   support\n",
      "\n",
      "   Late delivery       1.00      1.00      1.00     79027\n",
      "Shipping on time       1.00      1.00      1.00     79027\n",
      "\n",
      "        accuracy                           1.00    158054\n",
      "       macro avg       1.00      1.00      1.00    158054\n",
      "    weighted avg       1.00      1.00      1.00    158054\n",
      "\n"
     ]
    }
   ],
   "source": [
    "print(classification_report(y_smote_train, rfc_pred_train,  target_names=le.classes_))"
   ]
  },
  {
   "cell_type": "code",
   "execution_count": 28,
   "id": "e1c3b04b",
   "metadata": {
    "scrolled": false
   },
   "outputs": [
    {
     "name": "stdout",
     "output_type": "stream",
     "text": [
      "Mean Absolute Error: 0.0\n",
      "Mean Squared Error: 0.0\n",
      "Root Mean Squared Error: 0.0\n"
     ]
    }
   ],
   "source": [
    "print('Mean Absolute Error:', mean_absolute_error(y_smote_train, rfc_pred_train))\n",
    "print('Mean Squared Error:', mean_squared_error(y_smote_train, rfc_pred_train))  \n",
    "print('Root Mean Squared Error:', np.sqrt(mean_squared_error(y_smote_train, rfc_pred_train)))"
   ]
  },
  {
   "cell_type": "code",
   "execution_count": 29,
   "id": "e2b08db7",
   "metadata": {
    "scrolled": false
   },
   "outputs": [
    {
     "data": {
      "image/png": "[encoded data removed]",
      "text/plain": [
       "<Figure size 432x288 with 2 Axes>"
      ]
     },
     "metadata": {
      "needs_background": "light"
     },
     "output_type": "display_data"
    }
   ],
   "source": [
    "plot_confusion_matrix(rfc, x_smote_train, y_smote_train,\n",
    "                      cmap=plt.cm.Reds)\n",
    "\n",
    "plt.xticks(ticks=range(0,len(le.classes_)),labels=le.classes_, )\n",
    "plt.yticks(ticks=range(0,len(le.classes_)),labels=le.classes_)\n",
    "\n",
    "plt.show()"
   ]
  },
  {
   "cell_type": "markdown",
   "id": "e59decf8",
   "metadata": {},
   "source": [
    "##### Testing Model"
   ]
  },
  {
   "cell_type": "code",
   "execution_count": 30,
   "id": "32cc8fcf",
   "metadata": {},
   "outputs": [],
   "source": [
    "rfc_pred_test = rfc.predict(scaler_x_test)"
   ]
  },
  {
   "cell_type": "code",
   "execution_count": 31,
   "id": "d2c4f8a6",
   "metadata": {},
   "outputs": [
    {
     "name": "stdout",
     "output_type": "stream",
     "text": [
      "                  precision    recall  f1-score   support\n",
      "\n",
      "   Late delivery       1.00      0.27      0.43     19949\n",
      "Shipping on time       0.50      1.00      0.67     14604\n",
      "\n",
      "        accuracy                           0.58     34553\n",
      "       macro avg       0.75      0.63      0.55     34553\n",
      "    weighted avg       0.79      0.58      0.53     34553\n",
      "\n"
     ]
    }
   ],
   "source": [
    "print(classification_report(y_test, rfc_pred_test, target_names=le.classes_))"
   ]
  },
  {
   "cell_type": "code",
   "execution_count": 32,
   "id": "eb697156",
   "metadata": {
    "scrolled": true
   },
   "outputs": [
    {
     "name": "stdout",
     "output_type": "stream",
     "text": [
      "Mean Absolute Error: 0.4214395276821115\n",
      "Mean Squared Error: 0.4214395276821115\n",
      "Root Mean Squared Error: 0.6491837395392089\n"
     ]
    }
   ],
   "source": [
    "print('Mean Absolute Error:', mean_absolute_error(y_test, rfc_pred_test))\n",
    "print('Mean Squared Error:', mean_squared_error(y_test, rfc_pred_test))  \n",
    "print('Root Mean Squared Error:', np.sqrt(mean_squared_error(y_test, rfc_pred_test)))"
   ]
  },
  {
   "cell_type": "code",
   "execution_count": 33,
   "id": "b994fe51",
   "metadata": {
    "scrolled": true
   },
   "outputs": [
    {
     "data": {
      "image/png": "[encoded data removed]",
      "text/plain": [
       "<Figure size 432x288 with 2 Axes>"
      ]
     },
     "metadata": {
      "needs_background": "light"
     },
     "output_type": "display_data"
    }
   ],
   "source": [
    "plot_confusion_matrix(rfc, scaler_x_test, y_test,\n",
    "                      cmap=plt.cm.Reds)\n",
    "\n",
    "plt.xticks(ticks=range(0,len(le.classes_)),labels=le.classes_, )\n",
    "plt.yticks(ticks=range(0,len(le.classes_)),labels=le.classes_)\n",
    "\n",
    "plt.show()"
   ]
  },
  {
   "cell_type": "markdown",
   "id": "e09bbb4b",
   "metadata": {},
   "source": [
    "#### XGBoost"
   ]
  },
  {
   "cell_type": "markdown",
   "id": "3c40c34d",
   "metadata": {},
   "source": [
    "##### Training Model"
   ]
  },
  {
   "cell_type": "code",
   "execution_count": 34,
   "id": "6ae257b5",
   "metadata": {},
   "outputs": [
    {
     "name": "stdout",
     "output_type": "stream",
     "text": [
      "[23:31:24] WARNING: ..\\src\\learner.cc:1061: Starting in XGBoost 1.3.0, the default evaluation metric used with the objective 'binary:logistic' was changed from 'error' to 'logloss'. Explicitly set eval_metric if you'd like to restore the old behavior.\n"
     ]
    }
   ],
   "source": [
    "xgb = XGBClassifier()\n",
    "xgb.fit(x_smote_train, y_smote_train)\n",
    "xgb_pred_train = xgb.predict(x_smote_train)"
   ]
  },
  {
   "cell_type": "code",
   "execution_count": 35,
   "id": "4c539d5a",
   "metadata": {},
   "outputs": [
    {
     "name": "stdout",
     "output_type": "stream",
     "text": [
      "                  precision    recall  f1-score   support\n",
      "\n",
      "   Late delivery       0.89      0.65      0.75     79027\n",
      "Shipping on time       0.72      0.92      0.81     79027\n",
      "\n",
      "        accuracy                           0.78    158054\n",
      "       macro avg       0.80      0.78      0.78    158054\n",
      "    weighted avg       0.80      0.78      0.78    158054\n",
      "\n"
     ]
    }
   ],
   "source": [
    "print(classification_report(y_smote_train, xgb_pred_train,  target_names=le.classes_))"
   ]
  },
  {
   "cell_type": "code",
   "execution_count": 36,
   "id": "88ec4804",
   "metadata": {
    "scrolled": false
   },
   "outputs": [
    {
     "name": "stdout",
     "output_type": "stream",
     "text": [
      "Mean Absolute Error: 0.21676768699305302\n",
      "Mean Squared Error: 0.21676768699305302\n",
      "Root Mean Squared Error: 0.4655831687175268\n"
     ]
    }
   ],
   "source": [
    "print('Mean Absolute Error:', mean_absolute_error(y_smote_train, xgb_pred_train))\n",
    "print('Mean Squared Error:', mean_squared_error(y_smote_train, xgb_pred_train))  \n",
    "print('Root Mean Squared Error:', np.sqrt(mean_squared_error(y_smote_train, xgb_pred_train)))"
   ]
  },
  {
   "cell_type": "code",
   "execution_count": 37,
   "id": "c997ae60",
   "metadata": {
    "scrolled": true
   },
   "outputs": [
    {
     "data": {
      "image/png": "[encoded data removed]",
      "text/plain": [
       "<Figure size 432x288 with 2 Axes>"
      ]
     },
     "metadata": {
      "needs_background": "light"
     },
     "output_type": "display_data"
    }
   ],
   "source": [
    "plot_confusion_matrix(xgb, x_smote_train, y_smote_train,\n",
    "                      cmap=plt.cm.Greens)\n",
    "\n",
    "plt.xticks(ticks=range(0,len(le.classes_)),labels=le.classes_, )\n",
    "plt.yticks(ticks=range(0,len(le.classes_)),labels=le.classes_)\n",
    "\n",
    "plt.show()"
   ]
  },
  {
   "cell_type": "markdown",
   "id": "0a895189",
   "metadata": {},
   "source": [
    "##### Testing Model"
   ]
  },
  {
   "cell_type": "code",
   "execution_count": 38,
   "id": "7b2cebb8",
   "metadata": {},
   "outputs": [],
   "source": [
    "xgb_pred_test = xgb.predict(scaler_x_test)"
   ]
  },
  {
   "cell_type": "code",
   "execution_count": 39,
   "id": "46f1ddcf",
   "metadata": {},
   "outputs": [
    {
     "name": "stdout",
     "output_type": "stream",
     "text": [
      "                  precision    recall  f1-score   support\n",
      "\n",
      "   Late delivery       1.00      0.27      0.42     19949\n",
      "Shipping on time       0.50      1.00      0.67     14604\n",
      "\n",
      "        accuracy                           0.58     34553\n",
      "       macro avg       0.75      0.63      0.54     34553\n",
      "    weighted avg       0.79      0.58      0.53     34553\n",
      "\n"
     ]
    }
   ],
   "source": [
    "print(classification_report(y_test, xgb_pred_test, target_names=le.classes_))"
   ]
  },
  {
   "cell_type": "code",
   "execution_count": 40,
   "id": "a3613031",
   "metadata": {
    "scrolled": true
   },
   "outputs": [
    {
     "name": "stdout",
     "output_type": "stream",
     "text": [
      "Mean Absolute Error: 0.42262611061268196\n",
      "Mean Squared Error: 0.42262611061268196\n",
      "Root Mean Squared Error: 0.650097000925771\n"
     ]
    }
   ],
   "source": [
    "print('Mean Absolute Error:', mean_absolute_error(y_test, xgb_pred_test))\n",
    "print('Mean Squared Error:', mean_squared_error(y_test, xgb_pred_test))  \n",
    "print('Root Mean Squared Error:', np.sqrt(mean_squared_error(y_test, xgb_pred_test)))"
   ]
  },
  {
   "cell_type": "code",
   "execution_count": 41,
   "id": "2ddf58f6",
   "metadata": {
    "scrolled": true
   },
   "outputs": [
    {
     "data": {
      "image/png": "[encoded data removed]",
      "text/plain": [
       "<Figure size 432x288 with 2 Axes>"
      ]
     },
     "metadata": {
      "needs_background": "light"
     },
     "output_type": "display_data"
    }
   ],
   "source": [
    "plot_confusion_matrix(xgb, scaler_x_test, y_test,\n",
    "                      cmap=plt.cm.Greens)\n",
    "\n",
    "plt.xticks(ticks=range(0,len(le.classes_)),labels=le.classes_, )\n",
    "plt.yticks(ticks=range(0,len(le.classes_)),labels=le.classes_)\n",
    "\n",
    "plt.show()"
   ]
  },
  {
   "cell_type": "markdown",
   "id": "e4f5960d",
   "metadata": {},
   "source": [
    "SMOTE Does not work well with this modeling because Advanced Shipping and On Time data points are too similar."
   ]
  },
  {
   "cell_type": "markdown",
   "id": "6a0c5cda",
   "metadata": {},
   "source": [
    "After combining delivery status of Advanced Shipping and Shipping on time, SMOTE did not see to help the models increase efficiency. "
   ]
  },
  {
   "cell_type": "code",
   "execution_count": null,
   "id": "84f24695",
   "metadata": {},
   "outputs": [],
   "source": []
  }
 ],
 "metadata": {
  "kernelspec": {
   "display_name": "Python 3",
   "language": "python",
   "name": "python3"
  },
  "language_info": {
   "codemirror_mode": {
    "name": "ipython",
    "version": 3
   },
   "file_extension": ".py",
   "mimetype": "text/x-python",
   "name": "python",
   "nbconvert_exporter": "python",
   "pygments_lexer": "ipython3",
   "version": "3.8.8"
  }
 },
 "nbformat": 4,
 "nbformat_minor": 5
}
