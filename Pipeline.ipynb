{
 "cells": [
  {
   "cell_type": "code",
   "execution_count": 1,
   "id": "d84be41d",
   "metadata": {},
   "outputs": [],
   "source": [
    "# pipeline is using limited number of values for computing purposes"
   ]
  },
  {
   "cell_type": "code",
   "execution_count": 2,
   "id": "769dd767",
   "metadata": {},
   "outputs": [],
   "source": [
    "import pandas as pd\n",
    "import numpy as np\n",
    "from sklearn.preprocessing import OneHotEncoder, LabelEncoder\n",
    "from sklearn.preprocessing import StandardScaler\n",
    "from sklearn.model_selection import train_test_split, RandomizedSearchCV\n",
    "from sklearn.ensemble import RandomForestClassifier\n",
    "from xgboost import XGBClassifier\n",
    "from sklearn.pipeline import Pipeline\n",
    "from sklearn.metrics import classification_report\n",
    "from sklearn.metrics import mean_absolute_error, mean_squared_error\n",
    "from sklearn.metrics import confusion_matrix, plot_confusion_matrix\n",
    "import matplotlib.pyplot as plt\n",
    "\n",
    "import warnings\n",
    "warnings.filterwarnings('ignore')"
   ]
  },
  {
   "cell_type": "code",
   "execution_count": 3,
   "id": "e7a7c1c4",
   "metadata": {},
   "outputs": [],
   "source": [
    "# all columns are numerical (categorical columns have been converted)\n",
    "df = pd.read_csv('df.csv')\n",
    "df.drop(columns=['Unnamed: 0'], axis=1, inplace=True)"
   ]
  },
  {
   "cell_type": "code",
   "execution_count": 4,
   "id": "7b760aeb",
   "metadata": {},
   "outputs": [],
   "source": [
    "# for predicting shipping on time and late delivery \n",
    "df = pd.read_csv('df_ontime_vs_late.csv')\n",
    "df.drop(columns=['Unnamed: 0'], axis=1, inplace=True)"
   ]
  },
  {
   "cell_type": "code",
   "execution_count": 5,
   "id": "03d91d24",
   "metadata": {},
   "outputs": [],
   "source": [
    "df = df.drop(columns=[\n",
    "    'Late_delivery_risk'\n",
    "], axis=1)"
   ]
  },
  {
   "cell_type": "code",
   "execution_count": 6,
   "id": "4e3b83ca",
   "metadata": {},
   "outputs": [],
   "source": [
    "df_obj = df.select_dtypes(include='object')\n",
    "df_obj.drop(columns=['Delivery Status'], axis=1, inplace=True)"
   ]
  },
  {
   "cell_type": "code",
   "execution_count": 7,
   "id": "ce4991da",
   "metadata": {},
   "outputs": [],
   "source": [
    "#one hot encoder\n",
    "def onehotencoder(col):\n",
    "    \n",
    "    ohe = OneHotEncoder()\n",
    "    ohe_array = ohe.fit_transform((pd.DataFrame(col))).toarray()\n",
    "\n",
    "    feature_labels = np.array(ohe.categories_).ravel()\n",
    "\n",
    "\n",
    "    df_obj = pd.DataFrame(ohe_array, columns=feature_labels)\n",
    "    \n",
    "    return df_obj"
   ]
  },
  {
   "cell_type": "code",
   "execution_count": 8,
   "id": "ed09e08c",
   "metadata": {},
   "outputs": [],
   "source": [
    "df_ohe = pd.DataFrame()\n",
    "for c in df_obj.columns:\n",
    "    one_hot = onehotencoder(df_obj[c])\n",
    "    df_ohe = pd.concat([df_ohe, one_hot], axis=1) "
   ]
  },
  {
   "cell_type": "code",
   "execution_count": 9,
   "id": "b4f9ea00",
   "metadata": {},
   "outputs": [],
   "source": [
    "df_cont_var = df.select_dtypes(exclude='object')"
   ]
  },
  {
   "cell_type": "code",
   "execution_count": 10,
   "id": "52b4a36d",
   "metadata": {},
   "outputs": [],
   "source": [
    "df_ohe = pd.concat([df_cont_var, df_ohe], axis=1)"
   ]
  },
  {
   "cell_type": "code",
   "execution_count": 11,
   "id": "db6ae674",
   "metadata": {},
   "outputs": [],
   "source": [
    "df_ohe = pd.concat([df_ohe, df['Delivery Status'] ], axis=1)"
   ]
  },
  {
   "cell_type": "code",
   "execution_count": 12,
   "id": "849372d1",
   "metadata": {},
   "outputs": [],
   "source": [
    "df=df_ohe"
   ]
  },
  {
   "cell_type": "markdown",
   "id": "1e9d316c",
   "metadata": {},
   "source": [
    "##### X and Y values"
   ]
  },
  {
   "cell_type": "code",
   "execution_count": 13,
   "id": "73121f9b",
   "metadata": {},
   "outputs": [],
   "source": [
    "# y variable values set equal to label encode the dataframes column being used for y\n",
    "le = LabelEncoder()\n",
    "y = le.fit_transform(df['Delivery Status'])"
   ]
  },
  {
   "cell_type": "code",
   "execution_count": 14,
   "id": "ba05e377",
   "metadata": {},
   "outputs": [],
   "source": [
    "# x variable\n",
    "X = df.drop(columns=['Delivery Status'], axis=1)"
   ]
  },
  {
   "cell_type": "code",
   "execution_count": 15,
   "id": "c18e49b3",
   "metadata": {},
   "outputs": [],
   "source": [
    "#limiting the number of values for computing.\n",
    "#\n",
    "#\n",
    "X_train, X_test, y_train, y_test = train_test_split(X, y, train_size=.8, test_size=.2)"
   ]
  },
  {
   "cell_type": "code",
   "execution_count": 16,
   "id": "71989ec7",
   "metadata": {},
   "outputs": [
    {
     "data": {
      "text/html": [
       "<div>\n",
       "<style scoped>\n",
       "    .dataframe tbody tr th:only-of-type {\n",
       "        vertical-align: middle;\n",
       "    }\n",
       "\n",
       "    .dataframe tbody tr th {\n",
       "        vertical-align: top;\n",
       "    }\n",
       "\n",
       "    .dataframe thead th {\n",
       "        text-align: right;\n",
       "    }\n",
       "</style>\n",
       "<table border=\"1\" class=\"dataframe\">\n",
       "  <thead>\n",
       "    <tr style=\"text-align: right;\">\n",
       "      <th></th>\n",
       "      <th>Days for shipment (scheduled)</th>\n",
       "      <th>Sales per customer</th>\n",
       "      <th>Customer Zipcode</th>\n",
       "      <th>Department Id</th>\n",
       "      <th>Latitude</th>\n",
       "      <th>Longitude</th>\n",
       "      <th>Order Item Discount</th>\n",
       "      <th>Order Item Discount Rate</th>\n",
       "      <th>Order Item Id</th>\n",
       "      <th>Order Item Product Price</th>\n",
       "      <th>...</th>\n",
       "      <th>2017-05</th>\n",
       "      <th>2017-06</th>\n",
       "      <th>2017-07</th>\n",
       "      <th>2017-08</th>\n",
       "      <th>2017-09</th>\n",
       "      <th>2017-10</th>\n",
       "      <th>2017-11</th>\n",
       "      <th>2017-12</th>\n",
       "      <th>2018-01</th>\n",
       "      <th>2018-02</th>\n",
       "    </tr>\n",
       "  </thead>\n",
       "  <tbody>\n",
       "    <tr>\n",
       "      <th>9125</th>\n",
       "      <td>4</td>\n",
       "      <td>299.989990</td>\n",
       "      <td>97701.0</td>\n",
       "      <td>7</td>\n",
       "      <td>44.070793</td>\n",
       "      <td>-121.302551</td>\n",
       "      <td>100.0</td>\n",
       "      <td>0.25</td>\n",
       "      <td>9929</td>\n",
       "      <td>399.980011</td>\n",
       "      <td>...</td>\n",
       "      <td>0.0</td>\n",
       "      <td>0.0</td>\n",
       "      <td>0.0</td>\n",
       "      <td>0.0</td>\n",
       "      <td>0.0</td>\n",
       "      <td>0.0</td>\n",
       "      <td>0.0</td>\n",
       "      <td>0.0</td>\n",
       "      <td>0.0</td>\n",
       "      <td>0.0</td>\n",
       "    </tr>\n",
       "    <tr>\n",
       "      <th>137957</th>\n",
       "      <td>4</td>\n",
       "      <td>174.570007</td>\n",
       "      <td>85035.0</td>\n",
       "      <td>4</td>\n",
       "      <td>33.473373</td>\n",
       "      <td>-112.169777</td>\n",
       "      <td>5.4</td>\n",
       "      <td>0.03</td>\n",
       "      <td>140836</td>\n",
       "      <td>59.990002</td>\n",
       "      <td>...</td>\n",
       "      <td>0.0</td>\n",
       "      <td>0.0</td>\n",
       "      <td>0.0</td>\n",
       "      <td>0.0</td>\n",
       "      <td>0.0</td>\n",
       "      <td>0.0</td>\n",
       "      <td>0.0</td>\n",
       "      <td>0.0</td>\n",
       "      <td>0.0</td>\n",
       "      <td>0.0</td>\n",
       "    </tr>\n",
       "    <tr>\n",
       "      <th>72821</th>\n",
       "      <td>4</td>\n",
       "      <td>89.959999</td>\n",
       "      <td>725.0</td>\n",
       "      <td>7</td>\n",
       "      <td>18.215466</td>\n",
       "      <td>-66.370628</td>\n",
       "      <td>10.0</td>\n",
       "      <td>0.10</td>\n",
       "      <td>73523</td>\n",
       "      <td>49.980000</td>\n",
       "      <td>...</td>\n",
       "      <td>0.0</td>\n",
       "      <td>0.0</td>\n",
       "      <td>0.0</td>\n",
       "      <td>0.0</td>\n",
       "      <td>0.0</td>\n",
       "      <td>0.0</td>\n",
       "      <td>0.0</td>\n",
       "      <td>0.0</td>\n",
       "      <td>0.0</td>\n",
       "      <td>0.0</td>\n",
       "    </tr>\n",
       "    <tr>\n",
       "      <th>18532</th>\n",
       "      <td>1</td>\n",
       "      <td>148.500000</td>\n",
       "      <td>725.0</td>\n",
       "      <td>5</td>\n",
       "      <td>18.295197</td>\n",
       "      <td>-66.370506</td>\n",
       "      <td>1.5</td>\n",
       "      <td>0.01</td>\n",
       "      <td>20168</td>\n",
       "      <td>50.000000</td>\n",
       "      <td>...</td>\n",
       "      <td>0.0</td>\n",
       "      <td>0.0</td>\n",
       "      <td>0.0</td>\n",
       "      <td>0.0</td>\n",
       "      <td>0.0</td>\n",
       "      <td>0.0</td>\n",
       "      <td>0.0</td>\n",
       "      <td>0.0</td>\n",
       "      <td>0.0</td>\n",
       "      <td>0.0</td>\n",
       "    </tr>\n",
       "    <tr>\n",
       "      <th>111077</th>\n",
       "      <td>4</td>\n",
       "      <td>118.769997</td>\n",
       "      <td>725.0</td>\n",
       "      <td>5</td>\n",
       "      <td>18.244768</td>\n",
       "      <td>-66.370514</td>\n",
       "      <td>1.2</td>\n",
       "      <td>0.01</td>\n",
       "      <td>118229</td>\n",
       "      <td>39.990002</td>\n",
       "      <td>...</td>\n",
       "      <td>0.0</td>\n",
       "      <td>0.0</td>\n",
       "      <td>0.0</td>\n",
       "      <td>0.0</td>\n",
       "      <td>0.0</td>\n",
       "      <td>0.0</td>\n",
       "      <td>0.0</td>\n",
       "      <td>0.0</td>\n",
       "      <td>0.0</td>\n",
       "      <td>0.0</td>\n",
       "    </tr>\n",
       "    <tr>\n",
       "      <th>...</th>\n",
       "      <td>...</td>\n",
       "      <td>...</td>\n",
       "      <td>...</td>\n",
       "      <td>...</td>\n",
       "      <td>...</td>\n",
       "      <td>...</td>\n",
       "      <td>...</td>\n",
       "      <td>...</td>\n",
       "      <td>...</td>\n",
       "      <td>...</td>\n",
       "      <td>...</td>\n",
       "      <td>...</td>\n",
       "      <td>...</td>\n",
       "      <td>...</td>\n",
       "      <td>...</td>\n",
       "      <td>...</td>\n",
       "      <td>...</td>\n",
       "      <td>...</td>\n",
       "      <td>...</td>\n",
       "      <td>...</td>\n",
       "      <td>...</td>\n",
       "    </tr>\n",
       "    <tr>\n",
       "      <th>24177</th>\n",
       "      <td>4</td>\n",
       "      <td>347.980011</td>\n",
       "      <td>725.0</td>\n",
       "      <td>7</td>\n",
       "      <td>18.279999</td>\n",
       "      <td>-66.370590</td>\n",
       "      <td>52.0</td>\n",
       "      <td>0.13</td>\n",
       "      <td>25148</td>\n",
       "      <td>399.980011</td>\n",
       "      <td>...</td>\n",
       "      <td>0.0</td>\n",
       "      <td>0.0</td>\n",
       "      <td>0.0</td>\n",
       "      <td>0.0</td>\n",
       "      <td>0.0</td>\n",
       "      <td>0.0</td>\n",
       "      <td>0.0</td>\n",
       "      <td>0.0</td>\n",
       "      <td>0.0</td>\n",
       "      <td>0.0</td>\n",
       "    </tr>\n",
       "    <tr>\n",
       "      <th>20069</th>\n",
       "      <td>1</td>\n",
       "      <td>296.980011</td>\n",
       "      <td>97303.0</td>\n",
       "      <td>7</td>\n",
       "      <td>45.012547</td>\n",
       "      <td>-123.079613</td>\n",
       "      <td>3.0</td>\n",
       "      <td>0.01</td>\n",
       "      <td>23740</td>\n",
       "      <td>299.980011</td>\n",
       "      <td>...</td>\n",
       "      <td>0.0</td>\n",
       "      <td>0.0</td>\n",
       "      <td>0.0</td>\n",
       "      <td>0.0</td>\n",
       "      <td>0.0</td>\n",
       "      <td>0.0</td>\n",
       "      <td>0.0</td>\n",
       "      <td>0.0</td>\n",
       "      <td>0.0</td>\n",
       "      <td>0.0</td>\n",
       "    </tr>\n",
       "    <tr>\n",
       "      <th>154185</th>\n",
       "      <td>2</td>\n",
       "      <td>165.990005</td>\n",
       "      <td>725.0</td>\n",
       "      <td>7</td>\n",
       "      <td>18.224922</td>\n",
       "      <td>-66.370613</td>\n",
       "      <td>34.0</td>\n",
       "      <td>0.17</td>\n",
       "      <td>161144</td>\n",
       "      <td>199.990005</td>\n",
       "      <td>...</td>\n",
       "      <td>0.0</td>\n",
       "      <td>0.0</td>\n",
       "      <td>0.0</td>\n",
       "      <td>1.0</td>\n",
       "      <td>0.0</td>\n",
       "      <td>0.0</td>\n",
       "      <td>0.0</td>\n",
       "      <td>0.0</td>\n",
       "      <td>0.0</td>\n",
       "      <td>0.0</td>\n",
       "    </tr>\n",
       "    <tr>\n",
       "      <th>19491</th>\n",
       "      <td>1</td>\n",
       "      <td>232.500000</td>\n",
       "      <td>725.0</td>\n",
       "      <td>5</td>\n",
       "      <td>18.225262</td>\n",
       "      <td>-66.370529</td>\n",
       "      <td>17.5</td>\n",
       "      <td>0.07</td>\n",
       "      <td>20200</td>\n",
       "      <td>50.000000</td>\n",
       "      <td>...</td>\n",
       "      <td>0.0</td>\n",
       "      <td>0.0</td>\n",
       "      <td>0.0</td>\n",
       "      <td>0.0</td>\n",
       "      <td>0.0</td>\n",
       "      <td>0.0</td>\n",
       "      <td>0.0</td>\n",
       "      <td>0.0</td>\n",
       "      <td>0.0</td>\n",
       "      <td>0.0</td>\n",
       "    </tr>\n",
       "    <tr>\n",
       "      <th>96287</th>\n",
       "      <td>4</td>\n",
       "      <td>173.990005</td>\n",
       "      <td>33614.0</td>\n",
       "      <td>7</td>\n",
       "      <td>28.030855</td>\n",
       "      <td>-82.500862</td>\n",
       "      <td>26.0</td>\n",
       "      <td>0.13</td>\n",
       "      <td>101773</td>\n",
       "      <td>199.990005</td>\n",
       "      <td>...</td>\n",
       "      <td>0.0</td>\n",
       "      <td>0.0</td>\n",
       "      <td>0.0</td>\n",
       "      <td>0.0</td>\n",
       "      <td>0.0</td>\n",
       "      <td>0.0</td>\n",
       "      <td>0.0</td>\n",
       "      <td>0.0</td>\n",
       "      <td>0.0</td>\n",
       "      <td>0.0</td>\n",
       "    </tr>\n",
       "  </tbody>\n",
       "</table>\n",
       "<p>138209 rows × 138 columns</p>\n",
       "</div>"
      ],
      "text/plain": [
       "        Days for shipment (scheduled)  Sales per customer  Customer Zipcode  \\\n",
       "9125                                4          299.989990           97701.0   \n",
       "137957                              4          174.570007           85035.0   \n",
       "72821                               4           89.959999             725.0   \n",
       "18532                               1          148.500000             725.0   \n",
       "111077                              4          118.769997             725.0   \n",
       "...                               ...                 ...               ...   \n",
       "24177                               4          347.980011             725.0   \n",
       "20069                               1          296.980011           97303.0   \n",
       "154185                              2          165.990005             725.0   \n",
       "19491                               1          232.500000             725.0   \n",
       "96287                               4          173.990005           33614.0   \n",
       "\n",
       "        Department Id   Latitude   Longitude  Order Item Discount  \\\n",
       "9125                7  44.070793 -121.302551                100.0   \n",
       "137957              4  33.473373 -112.169777                  5.4   \n",
       "72821               7  18.215466  -66.370628                 10.0   \n",
       "18532               5  18.295197  -66.370506                  1.5   \n",
       "111077              5  18.244768  -66.370514                  1.2   \n",
       "...               ...        ...         ...                  ...   \n",
       "24177               7  18.279999  -66.370590                 52.0   \n",
       "20069               7  45.012547 -123.079613                  3.0   \n",
       "154185              7  18.224922  -66.370613                 34.0   \n",
       "19491               5  18.225262  -66.370529                 17.5   \n",
       "96287               7  28.030855  -82.500862                 26.0   \n",
       "\n",
       "        Order Item Discount Rate  Order Item Id  Order Item Product Price  \\\n",
       "9125                        0.25           9929                399.980011   \n",
       "137957                      0.03         140836                 59.990002   \n",
       "72821                       0.10          73523                 49.980000   \n",
       "18532                       0.01          20168                 50.000000   \n",
       "111077                      0.01         118229                 39.990002   \n",
       "...                          ...            ...                       ...   \n",
       "24177                       0.13          25148                399.980011   \n",
       "20069                       0.01          23740                299.980011   \n",
       "154185                      0.17         161144                199.990005   \n",
       "19491                       0.07          20200                 50.000000   \n",
       "96287                       0.13         101773                199.990005   \n",
       "\n",
       "        ...  2017-05  2017-06  2017-07  2017-08  2017-09  2017-10  2017-11  \\\n",
       "9125    ...      0.0      0.0      0.0      0.0      0.0      0.0      0.0   \n",
       "137957  ...      0.0      0.0      0.0      0.0      0.0      0.0      0.0   \n",
       "72821   ...      0.0      0.0      0.0      0.0      0.0      0.0      0.0   \n",
       "18532   ...      0.0      0.0      0.0      0.0      0.0      0.0      0.0   \n",
       "111077  ...      0.0      0.0      0.0      0.0      0.0      0.0      0.0   \n",
       "...     ...      ...      ...      ...      ...      ...      ...      ...   \n",
       "24177   ...      0.0      0.0      0.0      0.0      0.0      0.0      0.0   \n",
       "20069   ...      0.0      0.0      0.0      0.0      0.0      0.0      0.0   \n",
       "154185  ...      0.0      0.0      0.0      1.0      0.0      0.0      0.0   \n",
       "19491   ...      0.0      0.0      0.0      0.0      0.0      0.0      0.0   \n",
       "96287   ...      0.0      0.0      0.0      0.0      0.0      0.0      0.0   \n",
       "\n",
       "        2017-12  2018-01  2018-02  \n",
       "9125        0.0      0.0      0.0  \n",
       "137957      0.0      0.0      0.0  \n",
       "72821       0.0      0.0      0.0  \n",
       "18532       0.0      0.0      0.0  \n",
       "111077      0.0      0.0      0.0  \n",
       "...         ...      ...      ...  \n",
       "24177       0.0      0.0      0.0  \n",
       "20069       0.0      0.0      0.0  \n",
       "154185      0.0      0.0      0.0  \n",
       "19491       0.0      0.0      0.0  \n",
       "96287       0.0      0.0      0.0  \n",
       "\n",
       "[138209 rows x 138 columns]"
      ]
     },
     "execution_count": 16,
     "metadata": {},
     "output_type": "execute_result"
    }
   ],
   "source": [
    "X_train"
   ]
  },
  {
   "cell_type": "markdown",
   "id": "eb4e0ff3",
   "metadata": {},
   "source": [
    "##### Create Pipeline"
   ]
  },
  {
   "cell_type": "markdown",
   "id": "37d3f604",
   "metadata": {},
   "source": [
    "##### random forest"
   ]
  },
  {
   "cell_type": "code",
   "execution_count": 17,
   "id": "9baee363",
   "metadata": {},
   "outputs": [],
   "source": [
    "rf_pipeline = Pipeline([\n",
    "    ('scaler', StandardScaler()),\n",
    "    ('rf', RandomForestClassifier())\n",
    "])"
   ]
  },
  {
   "cell_type": "code",
   "execution_count": 18,
   "id": "916c4426",
   "metadata": {},
   "outputs": [
    {
     "data": {
      "text/plain": [
       "Pipeline(steps=[('scaler', StandardScaler()), ('rf', RandomForestClassifier())])"
      ]
     },
     "execution_count": 18,
     "metadata": {},
     "output_type": "execute_result"
    }
   ],
   "source": [
    "rf_pipeline.fit(X_train, y_train)"
   ]
  },
  {
   "cell_type": "code",
   "execution_count": 19,
   "id": "3f8611dc",
   "metadata": {},
   "outputs": [
    {
     "data": {
      "text/html": [
       "<div>\n",
       "<style scoped>\n",
       "    .dataframe tbody tr th:only-of-type {\n",
       "        vertical-align: middle;\n",
       "    }\n",
       "\n",
       "    .dataframe tbody tr th {\n",
       "        vertical-align: top;\n",
       "    }\n",
       "\n",
       "    .dataframe thead th {\n",
       "        text-align: right;\n",
       "    }\n",
       "</style>\n",
       "<table border=\"1\" class=\"dataframe\">\n",
       "  <thead>\n",
       "    <tr style=\"text-align: right;\">\n",
       "      <th></th>\n",
       "      <th>Feature Importance</th>\n",
       "    </tr>\n",
       "  </thead>\n",
       "  <tbody>\n",
       "    <tr>\n",
       "      <th>0</th>\n",
       "      <td>0.059157</td>\n",
       "    </tr>\n",
       "    <tr>\n",
       "      <th>1</th>\n",
       "      <td>0.048049</td>\n",
       "    </tr>\n",
       "    <tr>\n",
       "      <th>2</th>\n",
       "      <td>0.044406</td>\n",
       "    </tr>\n",
       "    <tr>\n",
       "      <th>3</th>\n",
       "      <td>0.012473</td>\n",
       "    </tr>\n",
       "    <tr>\n",
       "      <th>4</th>\n",
       "      <td>0.065076</td>\n",
       "    </tr>\n",
       "    <tr>\n",
       "      <th>...</th>\n",
       "      <td>...</td>\n",
       "    </tr>\n",
       "    <tr>\n",
       "      <th>133</th>\n",
       "      <td>0.000792</td>\n",
       "    </tr>\n",
       "    <tr>\n",
       "      <th>134</th>\n",
       "      <td>0.000559</td>\n",
       "    </tr>\n",
       "    <tr>\n",
       "      <th>135</th>\n",
       "      <td>0.000569</td>\n",
       "    </tr>\n",
       "    <tr>\n",
       "      <th>136</th>\n",
       "      <td>0.000517</td>\n",
       "    </tr>\n",
       "    <tr>\n",
       "      <th>137</th>\n",
       "      <td>0.000151</td>\n",
       "    </tr>\n",
       "  </tbody>\n",
       "</table>\n",
       "<p>138 rows × 1 columns</p>\n",
       "</div>"
      ],
      "text/plain": [
       "     Feature Importance\n",
       "0              0.059157\n",
       "1              0.048049\n",
       "2              0.044406\n",
       "3              0.012473\n",
       "4              0.065076\n",
       "..                  ...\n",
       "133            0.000792\n",
       "134            0.000559\n",
       "135            0.000569\n",
       "136            0.000517\n",
       "137            0.000151\n",
       "\n",
       "[138 rows x 1 columns]"
      ]
     },
     "execution_count": 19,
     "metadata": {},
     "output_type": "execute_result"
    }
   ],
   "source": [
    "#find which features are the significant. \n",
    "feat_import = pd.DataFrame(rf_pipeline.steps[1][1].feature_importances_, columns=['Feature Importance'])\n",
    "feat_import[feat_import['Feature Importance'] > 0]"
   ]
  },
  {
   "cell_type": "code",
   "execution_count": 20,
   "id": "ea70bcde",
   "metadata": {},
   "outputs": [
    {
     "data": {
      "text/plain": [
       "dict_keys(['memory', 'steps', 'verbose', 'scaler', 'rf', 'scaler__copy', 'scaler__with_mean', 'scaler__with_std', 'rf__bootstrap', 'rf__ccp_alpha', 'rf__class_weight', 'rf__criterion', 'rf__max_depth', 'rf__max_features', 'rf__max_leaf_nodes', 'rf__max_samples', 'rf__min_impurity_decrease', 'rf__min_impurity_split', 'rf__min_samples_leaf', 'rf__min_samples_split', 'rf__min_weight_fraction_leaf', 'rf__n_estimators', 'rf__n_jobs', 'rf__oob_score', 'rf__random_state', 'rf__verbose', 'rf__warm_start'])"
      ]
     },
     "execution_count": 20,
     "metadata": {},
     "output_type": "execute_result"
    }
   ],
   "source": [
    "rf_pipeline.get_params().keys()"
   ]
  },
  {
   "cell_type": "code",
   "execution_count": 21,
   "id": "4c01226d",
   "metadata": {},
   "outputs": [],
   "source": [
    "rf_param_grid=[{\n",
    "    'rf__criterion':['gini', 'entropy'],\n",
    "    'rf__max_depth':[10,70],\n",
    "    'rf__min_samples_split':[50,100],\n",
    "    'rf__min_samples_leaf':[1,100],\n",
    "}]"
   ]
  },
  {
   "cell_type": "code",
   "execution_count": 22,
   "id": "4cd1b1a0",
   "metadata": {},
   "outputs": [],
   "source": [
    "#random search random forest training\n",
    "rf_rand_search = RandomizedSearchCV(rf_pipeline, rf_param_grid,)\n",
    "\n",
    "rf_rand_search.fit(X_train, y_train)\n",
    "rfc_pred_train = rf_rand_search.predict(X_train)"
   ]
  },
  {
   "cell_type": "code",
   "execution_count": 23,
   "id": "a8a9c67a",
   "metadata": {},
   "outputs": [
    {
     "name": "stdout",
     "output_type": "stream",
     "text": [
      "                  precision    recall  f1-score   support\n",
      "\n",
      "   Late delivery       0.91      0.74      0.82     79301\n",
      "Shipping on time       0.72      0.90      0.80     58908\n",
      "\n",
      "        accuracy                           0.81    138209\n",
      "       macro avg       0.81      0.82      0.81    138209\n",
      "    weighted avg       0.83      0.81      0.81    138209\n",
      "\n"
     ]
    }
   ],
   "source": [
    "print(classification_report(y_train, rfc_pred_train, target_names=le.classes_))"
   ]
  },
  {
   "cell_type": "code",
   "execution_count": 24,
   "id": "8a154eed",
   "metadata": {},
   "outputs": [
    {
     "name": "stdout",
     "output_type": "stream",
     "text": [
      "Mean Absolute Error: 0.19137682784767995\n",
      "Mean Squared Error: 0.19137682784767995\n",
      "Root Mean Squared Error: 0.43746637339077843\n"
     ]
    }
   ],
   "source": [
    "print('Mean Absolute Error:', mean_absolute_error(y_train, rfc_pred_train))\n",
    "print('Mean Squared Error:', mean_squared_error(y_train, rfc_pred_train))  \n",
    "print('Root Mean Squared Error:', np.sqrt(mean_squared_error(y_train, rfc_pred_train)))"
   ]
  },
  {
   "cell_type": "code",
   "execution_count": 25,
   "id": "861353bc",
   "metadata": {},
   "outputs": [
    {
     "data": {
      "image/png": "[encoded data removed]",
      "text/plain": [
       "<Figure size 432x288 with 2 Axes>"
      ]
     },
     "metadata": {
      "needs_background": "light"
     },
     "output_type": "display_data"
    }
   ],
   "source": [
    "plot_confusion_matrix(rf_rand_search, X_train, y_train,\n",
    "                      cmap=plt.cm.Reds)\n",
    "\n",
    "plt.xticks(ticks=range(0,len(le.classes_)),labels=le.classes_, )\n",
    "plt.yticks(ticks=range(0,len(le.classes_)),labels=le.classes_)\n",
    "\n",
    "plt.show()"
   ]
  },
  {
   "cell_type": "code",
   "execution_count": 26,
   "id": "bbf663cc",
   "metadata": {},
   "outputs": [],
   "source": [
    "# test\n",
    "rfc_pred_test = rf_rand_search.predict(X_test)"
   ]
  },
  {
   "cell_type": "code",
   "execution_count": 27,
   "id": "e07e2141",
   "metadata": {},
   "outputs": [
    {
     "name": "stdout",
     "output_type": "stream",
     "text": [
      "                  precision    recall  f1-score   support\n",
      "\n",
      "   Late delivery       0.87      0.61      0.72     19675\n",
      "Shipping on time       0.63      0.88      0.73     14878\n",
      "\n",
      "        accuracy                           0.73     34553\n",
      "       macro avg       0.75      0.74      0.73     34553\n",
      "    weighted avg       0.77      0.73      0.72     34553\n",
      "\n"
     ]
    }
   ],
   "source": [
    "print(classification_report(y_test, rfc_pred_test, target_names=le.classes_))"
   ]
  },
  {
   "cell_type": "code",
   "execution_count": 28,
   "id": "322b0186",
   "metadata": {},
   "outputs": [
    {
     "name": "stdout",
     "output_type": "stream",
     "text": [
      "Mean Absolute Error: 0.2746505368564235\n",
      "Mean Squared Error: 0.2746505368564235\n",
      "Root Mean Squared Error: 0.5240711181284687\n"
     ]
    }
   ],
   "source": [
    "print('Mean Absolute Error:', mean_absolute_error(y_test, rfc_pred_test))\n",
    "print('Mean Squared Error:', mean_squared_error(y_test, rfc_pred_test))  \n",
    "print('Root Mean Squared Error:', np.sqrt(mean_squared_error(y_test, rfc_pred_test)))"
   ]
  },
  {
   "cell_type": "code",
   "execution_count": 29,
   "id": "5725834f",
   "metadata": {},
   "outputs": [
    {
     "data": {
      "image/png": "[encoded data removed]",
      "text/plain": [
       "<Figure size 432x288 with 2 Axes>"
      ]
     },
     "metadata": {
      "needs_background": "light"
     },
     "output_type": "display_data"
    }
   ],
   "source": [
    "plot_confusion_matrix(rf_rand_search, X_test, y_test,\n",
    "                      cmap=plt.cm.Reds)\n",
    "\n",
    "plt.xticks(ticks=range(0,len(le.classes_)),labels=le.classes_, )\n",
    "plt.yticks(ticks=range(0,len(le.classes_)),labels=le.classes_)\n",
    "\n",
    "plt.show()"
   ]
  },
  {
   "cell_type": "markdown",
   "id": "f684557b",
   "metadata": {},
   "source": [
    "##### xgboost"
   ]
  },
  {
   "cell_type": "code",
   "execution_count": 30,
   "id": "5c4639e4",
   "metadata": {},
   "outputs": [],
   "source": [
    "xgb_pipeline = Pipeline([\n",
    "    ('scaler', StandardScaler()),\n",
    "    ('xgb', XGBClassifier(eval_metric='mlogloss'))\n",
    "])"
   ]
  },
  {
   "cell_type": "code",
   "execution_count": 31,
   "id": "12b0de68",
   "metadata": {},
   "outputs": [
    {
     "data": {
      "text/plain": [
       "dict_keys(['memory', 'steps', 'verbose', 'scaler', 'xgb', 'scaler__copy', 'scaler__with_mean', 'scaler__with_std', 'xgb__objective', 'xgb__use_label_encoder', 'xgb__base_score', 'xgb__booster', 'xgb__colsample_bylevel', 'xgb__colsample_bynode', 'xgb__colsample_bytree', 'xgb__gamma', 'xgb__gpu_id', 'xgb__importance_type', 'xgb__interaction_constraints', 'xgb__learning_rate', 'xgb__max_delta_step', 'xgb__max_depth', 'xgb__min_child_weight', 'xgb__missing', 'xgb__monotone_constraints', 'xgb__n_estimators', 'xgb__n_jobs', 'xgb__num_parallel_tree', 'xgb__random_state', 'xgb__reg_alpha', 'xgb__reg_lambda', 'xgb__scale_pos_weight', 'xgb__subsample', 'xgb__tree_method', 'xgb__validate_parameters', 'xgb__verbosity', 'xgb__eval_metric'])"
      ]
     },
     "execution_count": 31,
     "metadata": {},
     "output_type": "execute_result"
    }
   ],
   "source": [
    "xgb_pipeline.get_params().keys()"
   ]
  },
  {
   "cell_type": "code",
   "execution_count": 32,
   "id": "849f16e7",
   "metadata": {},
   "outputs": [],
   "source": [
    "xgb_param_grid={\n",
    "    'xgb__learning_rate': [0.1, 0.2, 0.3, 0.4],\n",
    "    'xgb__gamma': [0, 1, 2, 3],\n",
    "    'xgb__max_depth': [20,60],\n",
    "    'xgb__min_child_weight': [1, 2],\n",
    "    'xgb__subsample': [0.2, 0.5, 0.7, 0.9],\n",
    "}"
   ]
  },
  {
   "cell_type": "code",
   "execution_count": 33,
   "id": "fe91fb97",
   "metadata": {
    "scrolled": true
   },
   "outputs": [],
   "source": [
    "#train\n",
    "xgb_rand_search = RandomizedSearchCV(xgb_pipeline, xgb_param_grid)\n",
    "\n",
    "xgb_rand_search.fit(X_train, y_train)\n",
    "xgb_pred_train = xgb_rand_search.predict(X_train)"
   ]
  },
  {
   "cell_type": "code",
   "execution_count": 34,
   "id": "60c74933",
   "metadata": {},
   "outputs": [
    {
     "name": "stdout",
     "output_type": "stream",
     "text": [
      "                  precision    recall  f1-score   support\n",
      "\n",
      "   Late delivery       1.00      1.00      1.00     79301\n",
      "Shipping on time       1.00      1.00      1.00     58908\n",
      "\n",
      "        accuracy                           1.00    138209\n",
      "       macro avg       1.00      1.00      1.00    138209\n",
      "    weighted avg       1.00      1.00      1.00    138209\n",
      "\n"
     ]
    }
   ],
   "source": [
    "print(classification_report(y_train, xgb_pred_train, target_names=le.classes_))"
   ]
  },
  {
   "cell_type": "code",
   "execution_count": 35,
   "id": "4121b4ca",
   "metadata": {},
   "outputs": [
    {
     "name": "stdout",
     "output_type": "stream",
     "text": [
      "Mean Absolute Error: 0.0003328292658220521\n",
      "Mean Squared Error: 0.0003328292658220521\n",
      "Root Mean Squared Error: 0.01824360890345033\n"
     ]
    }
   ],
   "source": [
    "print('Mean Absolute Error:', mean_absolute_error(y_train, xgb_pred_train))\n",
    "print('Mean Squared Error:', mean_squared_error(y_train, xgb_pred_train))  \n",
    "print('Root Mean Squared Error:', np.sqrt(mean_squared_error(y_train, xgb_pred_train)))"
   ]
  },
  {
   "cell_type": "code",
   "execution_count": 36,
   "id": "fb95284b",
   "metadata": {},
   "outputs": [
    {
     "data": {
      "image/png": "[encoded data removed]",
      "text/plain": [
       "<Figure size 432x288 with 2 Axes>"
      ]
     },
     "metadata": {
      "needs_background": "light"
     },
     "output_type": "display_data"
    }
   ],
   "source": [
    "plot_confusion_matrix(xgb_rand_search, X_train, y_train,\n",
    "                      cmap=plt.cm.Greens)\n",
    "\n",
    "plt.xticks(ticks=range(0,len(le.classes_)),labels=le.classes_)\n",
    "plt.yticks(ticks=range(0,len(le.classes_)),labels=le.classes_)\n",
    "\n",
    "\n",
    "\n",
    "plt.show()"
   ]
  },
  {
   "cell_type": "code",
   "execution_count": 37,
   "id": "c7f42b23",
   "metadata": {},
   "outputs": [],
   "source": [
    "# test\n",
    "xgb_pred_test = xgb_rand_search.predict(X_test)"
   ]
  },
  {
   "cell_type": "code",
   "execution_count": 38,
   "id": "f42314f9",
   "metadata": {},
   "outputs": [
    {
     "name": "stdout",
     "output_type": "stream",
     "text": [
      "                  precision    recall  f1-score   support\n",
      "\n",
      "   Late delivery       0.89      0.86      0.87     19675\n",
      "Shipping on time       0.82      0.86      0.84     14878\n",
      "\n",
      "        accuracy                           0.86     34553\n",
      "       macro avg       0.85      0.86      0.86     34553\n",
      "    weighted avg       0.86      0.86      0.86     34553\n",
      "\n"
     ]
    }
   ],
   "source": [
    "print(classification_report(y_test, xgb_pred_test, target_names=le.classes_))"
   ]
  },
  {
   "cell_type": "code",
   "execution_count": 39,
   "id": "acb9d8c8",
   "metadata": {},
   "outputs": [
    {
     "name": "stdout",
     "output_type": "stream",
     "text": [
      "Mean Absolute Error: 0.1428819494689318\n",
      "Mean Squared Error: 0.1428819494689318\n",
      "Root Mean Squared Error: 0.3779972876475859\n"
     ]
    }
   ],
   "source": [
    "print('Mean Absolute Error:', mean_absolute_error(y_test, xgb_pred_test))\n",
    "print('Mean Squared Error:', mean_squared_error(y_test, xgb_pred_test))  \n",
    "print('Root Mean Squared Error:', np.sqrt(mean_squared_error(y_test, xgb_pred_test)))"
   ]
  },
  {
   "cell_type": "code",
   "execution_count": 40,
   "id": "8368ac25",
   "metadata": {},
   "outputs": [
    {
     "data": {
      "image/png": "[encoded data removed]",
      "text/plain": [
       "<Figure size 432x288 with 2 Axes>"
      ]
     },
     "metadata": {
      "needs_background": "light"
     },
     "output_type": "display_data"
    }
   ],
   "source": [
    "plot_confusion_matrix(xgb_rand_search, X_test, y_test,\n",
    "                      cmap=plt.cm.Greens)\n",
    "\n",
    "plt.xticks(ticks=range(0,len(le.classes_)),labels=le.classes_, )\n",
    "plt.yticks(ticks=range(0,len(le.classes_)),labels=le.classes_)\n",
    "\n",
    "plt.show()"
   ]
  },
  {
   "cell_type": "markdown",
   "id": "70506d98",
   "metadata": {},
   "source": [
    ".86 with XGBoost through the pipeline with test samples and only classifying Shipping on time and Late delivery. "
   ]
  },
  {
   "cell_type": "code",
   "execution_count": null,
   "id": "9aa6ecce",
   "metadata": {},
   "outputs": [],
   "source": []
  }
 ],
 "metadata": {
  "kernelspec": {
   "display_name": "Python 3",
   "language": "python",
   "name": "python3"
  },
  "language_info": {
   "codemirror_mode": {
    "name": "ipython",
    "version": 3
   },
   "file_extension": ".py",
   "mimetype": "text/x-python",
   "name": "python",
   "nbconvert_exporter": "python",
   "pygments_lexer": "ipython3",
   "version": "3.8.8"
  }
 },
 "nbformat": 4,
 "nbformat_minor": 5
}
