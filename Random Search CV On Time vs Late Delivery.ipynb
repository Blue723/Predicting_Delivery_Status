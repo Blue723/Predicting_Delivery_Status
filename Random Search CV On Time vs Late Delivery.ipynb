{
 "cells": [
  {
   "cell_type": "code",
   "execution_count": 1,
   "id": "aa2f25b5",
   "metadata": {},
   "outputs": [],
   "source": [
    "import pandas as pd\n",
    "import numpy as np\n",
    "import seaborn as sns\n",
    "from sklearn.preprocessing import OneHotEncoder, LabelEncoder\n",
    "from sklearn.compose import make_column_selector as selector\n",
    "from sklearn.metrics import mean_squared_error\n",
    "from sklearn.model_selection import train_test_split\n",
    "from sklearn.preprocessing import StandardScaler\n",
    "from imblearn.over_sampling import SMOTE\n",
    "from sklearn.ensemble import RandomForestClassifier\n",
    "from xgboost import XGBClassifier\n",
    "from sklearn.model_selection import RandomizedSearchCV\n",
    "from sklearn.metrics import classification_report\n",
    "from sklearn.metrics import mean_absolute_error, mean_squared_error\n",
    "from sklearn.metrics import confusion_matrix, plot_confusion_matrix\n",
    "import matplotlib.pyplot as plt\n",
    "import warnings\n",
    "warnings.filterwarnings('ignore')"
   ]
  },
  {
   "cell_type": "code",
   "execution_count": 2,
   "id": "9545c8d5",
   "metadata": {},
   "outputs": [],
   "source": [
    "# for predicting shipping on time and late delivery \n",
    "df = pd.read_csv('df_ontime_vs_late.csv')\n",
    "df.drop(columns=['Unnamed: 0'], axis=1, inplace=True)"
   ]
  },
  {
   "cell_type": "code",
   "execution_count": 3,
   "id": "de1ccb82",
   "metadata": {},
   "outputs": [],
   "source": [
    "df = df.drop(columns=[\n",
    "    'Late_delivery_risk'\n",
    "], axis=1)"
   ]
  },
  {
   "cell_type": "code",
   "execution_count": 4,
   "id": "98ec7b56",
   "metadata": {},
   "outputs": [],
   "source": [
    "df_obj = df.select_dtypes(include='object')\n",
    "df_obj.drop(columns=['Delivery Status'], axis=1, inplace=True)"
   ]
  },
  {
   "cell_type": "code",
   "execution_count": 5,
   "id": "c9ae1e2f",
   "metadata": {},
   "outputs": [],
   "source": [
    "#one hot encoder\n",
    "def onehotencoder(col):\n",
    "    \n",
    "    ohe = OneHotEncoder()\n",
    "    ohe_array = ohe.fit_transform((pd.DataFrame(col))).toarray()\n",
    "\n",
    "    feature_labels = np.array(ohe.categories_).ravel()\n",
    "\n",
    "\n",
    "    df_obj = pd.DataFrame(ohe_array, columns=feature_labels)\n",
    "    \n",
    "    return df_obj"
   ]
  },
  {
   "cell_type": "code",
   "execution_count": 6,
   "id": "e59f91e7",
   "metadata": {},
   "outputs": [],
   "source": [
    "df_ohe = pd.DataFrame()\n",
    "for c in df_obj.columns:\n",
    "    one_hot = onehotencoder(df_obj[c])\n",
    "    df_ohe = pd.concat([df_ohe, one_hot], axis=1) "
   ]
  },
  {
   "cell_type": "code",
   "execution_count": 7,
   "id": "af9e6624",
   "metadata": {},
   "outputs": [],
   "source": [
    "df_cont_var = df.select_dtypes(exclude='object')"
   ]
  },
  {
   "cell_type": "code",
   "execution_count": 8,
   "id": "a83ffd7c",
   "metadata": {},
   "outputs": [],
   "source": [
    "df_ohe = pd.concat([df_cont_var, df_ohe], axis=1)"
   ]
  },
  {
   "cell_type": "code",
   "execution_count": 9,
   "id": "200b06b1",
   "metadata": {},
   "outputs": [],
   "source": [
    "df_ohe = pd.concat([df_ohe, df['Delivery Status'] ], axis=1)"
   ]
  },
  {
   "cell_type": "code",
   "execution_count": 10,
   "id": "b6256bce",
   "metadata": {},
   "outputs": [],
   "source": [
    "df=df_ohe"
   ]
  },
  {
   "cell_type": "code",
   "execution_count": null,
   "id": "298496ad",
   "metadata": {},
   "outputs": [],
   "source": []
  },
  {
   "cell_type": "code",
   "execution_count": 11,
   "id": "cc44a569",
   "metadata": {},
   "outputs": [],
   "source": [
    "# y variable values set equal to label encode the dataframes column being used for y\n",
    "le = LabelEncoder()\n",
    "y = le.fit_transform(df['Delivery Status'])"
   ]
  },
  {
   "cell_type": "code",
   "execution_count": 12,
   "id": "96149215",
   "metadata": {},
   "outputs": [],
   "source": [
    "# x variable\n",
    "X = df.drop(columns=['Delivery Status'], axis=1)"
   ]
  },
  {
   "cell_type": "code",
   "execution_count": 13,
   "id": "c8964458",
   "metadata": {},
   "outputs": [],
   "source": [
    "X_train, X_test, y_train, y_test = train_test_split(X, y, train_size=.8, test_size=.2)"
   ]
  },
  {
   "cell_type": "markdown",
   "id": "d48ce793",
   "metadata": {},
   "source": [
    "### Random Search"
   ]
  },
  {
   "cell_type": "code",
   "execution_count": 14,
   "id": "969063f7",
   "metadata": {},
   "outputs": [
    {
     "data": {
      "text/plain": [
       "StandardScaler()"
      ]
     },
     "execution_count": 14,
     "metadata": {},
     "output_type": "execute_result"
    }
   ],
   "source": [
    "# scaling data\n",
    "scaler = StandardScaler()\n",
    "scaler.fit(X_train)"
   ]
  },
  {
   "cell_type": "code",
   "execution_count": 15,
   "id": "a472b5ca",
   "metadata": {},
   "outputs": [],
   "source": [
    "scaler_x_train = scaler.transform(X_train)"
   ]
  },
  {
   "cell_type": "code",
   "execution_count": 16,
   "id": "3ea238e6",
   "metadata": {},
   "outputs": [],
   "source": [
    "scaler.fit(X_test)\n",
    "scaler_x_test = scaler.transform(X_test)"
   ]
  },
  {
   "cell_type": "markdown",
   "id": "db6362eb",
   "metadata": {},
   "source": [
    "#### Random Forest Models"
   ]
  },
  {
   "cell_type": "markdown",
   "id": "6708fbfe",
   "metadata": {},
   "source": [
    "##### Training Model"
   ]
  },
  {
   "cell_type": "code",
   "execution_count": 17,
   "id": "51e60b65",
   "metadata": {},
   "outputs": [],
   "source": [
    "rf_param_grid={\n",
    "    'criterion':['gini', 'entropy'],\n",
    "    'max_depth':[10,70],\n",
    "    'min_samples_split':[50,100],\n",
    "    'min_samples_leaf':[1,100],\n",
    "}"
   ]
  },
  {
   "cell_type": "code",
   "execution_count": 18,
   "id": "dcf323df",
   "metadata": {},
   "outputs": [],
   "source": [
    "rf = RandomForestClassifier()\n",
    "rf_rand_search = RandomizedSearchCV(rf, rf_param_grid)\n",
    "\n",
    "rf_rand_search.fit(scaler_x_train, y_train)\n",
    "rfc_pred_train = rf_rand_search.predict(scaler_x_train)"
   ]
  },
  {
   "cell_type": "code",
   "execution_count": 19,
   "id": "dc1d0e16",
   "metadata": {
    "scrolled": true
   },
   "outputs": [
    {
     "name": "stdout",
     "output_type": "stream",
     "text": [
      "                  precision    recall  f1-score   support\n",
      "\n",
      "   Late delivery       0.89      0.63      0.74     79045\n",
      "Shipping on time       0.64      0.89      0.75     59164\n",
      "\n",
      "        accuracy                           0.74    138209\n",
      "       macro avg       0.77      0.76      0.74    138209\n",
      "    weighted avg       0.78      0.74      0.74    138209\n",
      "\n"
     ]
    }
   ],
   "source": [
    "print(classification_report(y_train, rfc_pred_train, target_names=le.classes_))"
   ]
  },
  {
   "cell_type": "code",
   "execution_count": 20,
   "id": "8d02bd75",
   "metadata": {},
   "outputs": [
    {
     "name": "stdout",
     "output_type": "stream",
     "text": [
      "Mean Absolute Error: 0.25589505748540253\n",
      "Mean Squared Error: 0.25589505748540253\n",
      "Root Mean Squared Error: 0.5058607095687533\n"
     ]
    }
   ],
   "source": [
    "print('Mean Absolute Error:', mean_absolute_error(y_train, rfc_pred_train))\n",
    "print('Mean Squared Error:', mean_squared_error(y_train, rfc_pred_train))  \n",
    "print('Root Mean Squared Error:', np.sqrt(mean_squared_error(y_train, rfc_pred_train)))"
   ]
  },
  {
   "cell_type": "code",
   "execution_count": 21,
   "id": "c36a6d72",
   "metadata": {},
   "outputs": [
    {
     "data": {
      "image/png": "[encoded data removed]",
      "text/plain": [
       "<Figure size 432x288 with 2 Axes>"
      ]
     },
     "metadata": {
      "needs_background": "light"
     },
     "output_type": "display_data"
    }
   ],
   "source": [
    "plot_confusion_matrix(rf_rand_search, scaler_x_train, y_train,\n",
    "                      cmap=plt.cm.Reds)\n",
    "\n",
    "plt.xticks(ticks=range(0,len(le.classes_)),labels=le.classes_, rotation=45)\n",
    "plt.yticks(ticks=range(0,len(le.classes_)),labels=le.classes_)\n",
    "\n",
    "plt.show()"
   ]
  },
  {
   "cell_type": "markdown",
   "id": "368f5bfa",
   "metadata": {},
   "source": [
    "#### Testing Model"
   ]
  },
  {
   "cell_type": "code",
   "execution_count": 22,
   "id": "ce9de8b4",
   "metadata": {},
   "outputs": [],
   "source": [
    "rfc_pred_test = rf_rand_search.predict(scaler_x_test)"
   ]
  },
  {
   "cell_type": "code",
   "execution_count": 23,
   "id": "d2c4f8a6",
   "metadata": {},
   "outputs": [
    {
     "name": "stdout",
     "output_type": "stream",
     "text": [
      "                  precision    recall  f1-score   support\n",
      "\n",
      "   Late delivery       0.87      0.58      0.70     19931\n",
      "Shipping on time       0.61      0.89      0.72     14622\n",
      "\n",
      "        accuracy                           0.71     34553\n",
      "       macro avg       0.74      0.73      0.71     34553\n",
      "    weighted avg       0.76      0.71      0.71     34553\n",
      "\n"
     ]
    }
   ],
   "source": [
    "print(classification_report(y_test, rfc_pred_test, target_names=le.classes_))"
   ]
  },
  {
   "cell_type": "code",
   "execution_count": 24,
   "id": "55f64297",
   "metadata": {},
   "outputs": [
    {
     "name": "stdout",
     "output_type": "stream",
     "text": [
      "Mean Absolute Error: 0.2902208201892745\n",
      "Mean Squared Error: 0.2902208201892745\n",
      "Root Mean Squared Error: 0.5387214680976381\n"
     ]
    }
   ],
   "source": [
    "print('Mean Absolute Error:', mean_absolute_error(y_test, rfc_pred_test))\n",
    "print('Mean Squared Error:', mean_squared_error(y_test, rfc_pred_test))  \n",
    "print('Root Mean Squared Error:', np.sqrt(mean_squared_error(y_test, rfc_pred_test)))"
   ]
  },
  {
   "cell_type": "code",
   "execution_count": 25,
   "id": "1ebc1dc8",
   "metadata": {},
   "outputs": [
    {
     "data": {
      "image/png": "[encoded data removed]",
      "text/plain": [
       "<Figure size 432x288 with 2 Axes>"
      ]
     },
     "metadata": {
      "needs_background": "light"
     },
     "output_type": "display_data"
    }
   ],
   "source": [
    "plot_confusion_matrix(rf_rand_search, scaler_x_test, y_test,\n",
    "                      cmap=plt.cm.Reds)\n",
    "\n",
    "plt.xticks(ticks=range(0,len(le.classes_)),labels=le.classes_, rotation=45)\n",
    "plt.yticks(ticks=range(0,len(le.classes_)),labels=le.classes_)\n",
    "\n",
    "plt.show()"
   ]
  },
  {
   "cell_type": "markdown",
   "id": "0a895189",
   "metadata": {},
   "source": [
    "#### XGBoost Models"
   ]
  },
  {
   "cell_type": "code",
   "execution_count": 26,
   "id": "046c2a1f",
   "metadata": {},
   "outputs": [],
   "source": [
    "xgb_param_grid={\n",
    "    'learning_rate': [0.1, 0.2, 0.3, 0.4],\n",
    "    'gamma': [0, 1, 2, 3],\n",
    "    'max_depth': [20,60],\n",
    "    'min_child_weight': [1, 2],\n",
    "    'subsample': [0.2, 0.5, 0.7, 0.9],\n",
    "}"
   ]
  },
  {
   "cell_type": "markdown",
   "id": "8c23acd6",
   "metadata": {},
   "source": [
    "##### Training Model"
   ]
  },
  {
   "cell_type": "code",
   "execution_count": 27,
   "id": "6ae257b5",
   "metadata": {
    "scrolled": true
   },
   "outputs": [],
   "source": [
    "xgb = XGBClassifier(eval_metric='mlogloss')\n",
    "xgb_rand_search = RandomizedSearchCV(xgb, xgb_param_grid)\n",
    "\n",
    "xgb_rand_search.fit(scaler_x_train, y_train)\n",
    "xgb_pred_train = xgb_rand_search.predict(scaler_x_train)"
   ]
  },
  {
   "cell_type": "code",
   "execution_count": 28,
   "id": "4c539d5a",
   "metadata": {},
   "outputs": [
    {
     "name": "stdout",
     "output_type": "stream",
     "text": [
      "                  precision    recall  f1-score   support\n",
      "\n",
      "   Late delivery       1.00      1.00      1.00     79045\n",
      "Shipping on time       1.00      1.00      1.00     59164\n",
      "\n",
      "        accuracy                           1.00    138209\n",
      "       macro avg       1.00      1.00      1.00    138209\n",
      "    weighted avg       1.00      1.00      1.00    138209\n",
      "\n"
     ]
    }
   ],
   "source": [
    "print(classification_report(y_train, xgb_pred_train, target_names=le.classes_))"
   ]
  },
  {
   "cell_type": "code",
   "execution_count": 29,
   "id": "af8f33a1",
   "metadata": {},
   "outputs": [
    {
     "name": "stdout",
     "output_type": "stream",
     "text": [
      "Mean Absolute Error: 0.002358746536043239\n",
      "Mean Squared Error: 0.002358746536043239\n",
      "Root Mean Squared Error: 0.04856692841886585\n"
     ]
    }
   ],
   "source": [
    "print('Mean Absolute Error:', mean_absolute_error(y_train, xgb_pred_train))\n",
    "print('Mean Squared Error:', mean_squared_error(y_train, xgb_pred_train))  \n",
    "print('Root Mean Squared Error:', np.sqrt(mean_squared_error(y_train, xgb_pred_train)))"
   ]
  },
  {
   "cell_type": "code",
   "execution_count": 30,
   "id": "ce3b1004",
   "metadata": {},
   "outputs": [
    {
     "data": {
      "image/png": "[encoded data removed]",
      "text/plain": [
       "<Figure size 432x288 with 2 Axes>"
      ]
     },
     "metadata": {
      "needs_background": "light"
     },
     "output_type": "display_data"
    }
   ],
   "source": [
    "plot_confusion_matrix(xgb_rand_search, scaler_x_train, y_train,\n",
    "                      cmap=plt.cm.Greens)\n",
    "\n",
    "plt.xticks(ticks=range(0,len(le.classes_)),labels=le.classes_, rotation=45)\n",
    "plt.yticks(ticks=range(0,len(le.classes_)),labels=le.classes_)\n",
    "\n",
    "plt.show()"
   ]
  },
  {
   "cell_type": "markdown",
   "id": "a262709e",
   "metadata": {},
   "source": [
    "##### Testing Model"
   ]
  },
  {
   "cell_type": "code",
   "execution_count": 31,
   "id": "4de3513b",
   "metadata": {
    "scrolled": true
   },
   "outputs": [],
   "source": [
    "xgb_pred_test = xgb_rand_search.predict(scaler_x_test)"
   ]
  },
  {
   "cell_type": "code",
   "execution_count": 32,
   "id": "46f1ddcf",
   "metadata": {},
   "outputs": [
    {
     "name": "stdout",
     "output_type": "stream",
     "text": [
      "                  precision    recall  f1-score   support\n",
      "\n",
      "   Late delivery       0.84      0.75      0.79     19931\n",
      "Shipping on time       0.70      0.81      0.75     14622\n",
      "\n",
      "        accuracy                           0.78     34553\n",
      "       macro avg       0.77      0.78      0.77     34553\n",
      "    weighted avg       0.78      0.78      0.78     34553\n",
      "\n"
     ]
    }
   ],
   "source": [
    "print(classification_report(y_test, xgb_pred_test, target_names=le.classes_))"
   ]
  },
  {
   "cell_type": "code",
   "execution_count": 33,
   "id": "31d496e8",
   "metadata": {},
   "outputs": [
    {
     "name": "stdout",
     "output_type": "stream",
     "text": [
      "Mean Absolute Error: 0.224640407489943\n",
      "Mean Squared Error: 0.224640407489943\n",
      "Root Mean Squared Error: 0.4739624536711141\n"
     ]
    }
   ],
   "source": [
    "print('Mean Absolute Error:', mean_absolute_error(y_test, xgb_pred_test))\n",
    "print('Mean Squared Error:', mean_squared_error(y_test, xgb_pred_test))  \n",
    "print('Root Mean Squared Error:', np.sqrt(mean_squared_error(y_test, xgb_pred_test)))"
   ]
  },
  {
   "cell_type": "code",
   "execution_count": 34,
   "id": "613ab099",
   "metadata": {},
   "outputs": [
    {
     "data": {
      "image/png": "[encoded data removed]",
      "text/plain": [
       "<Figure size 432x288 with 2 Axes>"
      ]
     },
     "metadata": {
      "needs_background": "light"
     },
     "output_type": "display_data"
    }
   ],
   "source": [
    "plot_confusion_matrix(xgb_rand_search, scaler_x_test, y_test,\n",
    "                      cmap=plt.cm.Greens)\n",
    "\n",
    "plt.xticks(ticks=range(0,len(le.classes_)),labels=le.classes_, rotation=45)\n",
    "plt.yticks(ticks=range(0,len(le.classes_)),labels=le.classes_)\n",
    "\n",
    "plt.show()"
   ]
  },
  {
   "cell_type": "code",
   "execution_count": 35,
   "id": "c2b0123b",
   "metadata": {},
   "outputs": [],
   "source": [
    "#.64 rfc before corr change\n",
    "#.65 rfc after corr change\n",
    "#.69 xgboost before corr change\n",
    "#.68 after corr change\n"
   ]
  },
  {
   "cell_type": "code",
   "execution_count": 36,
   "id": "bc896072",
   "metadata": {},
   "outputs": [],
   "source": [
    "#.71 rfc after delivery status category change to considering shipping on time \n",
    "# and late delivery\n",
    "\n",
    "# .78 xgb"
   ]
  }
 ],
 "metadata": {
  "kernelspec": {
   "display_name": "Python 3",
   "language": "python",
   "name": "python3"
  },
  "language_info": {
   "codemirror_mode": {
    "name": "ipython",
    "version": 3
   },
   "file_extension": ".py",
   "mimetype": "text/x-python",
   "name": "python",
   "nbconvert_exporter": "python",
   "pygments_lexer": "ipython3",
   "version": "3.8.8"
  }
 },
 "nbformat": 4,
 "nbformat_minor": 5
}
