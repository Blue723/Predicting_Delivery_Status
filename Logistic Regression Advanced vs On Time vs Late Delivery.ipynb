{
 "cells": [
  {
   "cell_type": "code",
   "execution_count": 1,
   "id": "aa2f25b5",
   "metadata": {},
   "outputs": [],
   "source": [
    "import pandas as pd\n",
    "import numpy as np\n",
    "import seaborn as sns\n",
    "from sklearn.preprocessing import OneHotEncoder, LabelEncoder\n",
    "from sklearn.compose import make_column_selector as selector\n",
    "from sklearn.metrics import mean_squared_error\n",
    "from sklearn.model_selection import train_test_split\n",
    "from sklearn.preprocessing import StandardScaler\n",
    "from sklearn.linear_model import LogisticRegression\n",
    "from sklearn.metrics import confusion_matrix, plot_confusion_matrix\n",
    "from sklearn.metrics import classification_report\n",
    "import matplotlib.pyplot as plt\n",
    "import warnings\n",
    "warnings.filterwarnings('ignore')"
   ]
  },
  {
   "cell_type": "code",
   "execution_count": 2,
   "id": "153cb74a",
   "metadata": {},
   "outputs": [],
   "source": [
    "# for predicting shipping on time and late delivery \n",
    "df = pd.read_csv('df_adv_ontime_late.csv')\n",
    "df.drop(columns=['Unnamed: 0'], axis=1, inplace=True)"
   ]
  },
  {
   "cell_type": "code",
   "execution_count": 3,
   "id": "ee68ebd9",
   "metadata": {},
   "outputs": [
    {
     "data": {
      "text/html": [
       "<div>\n",
       "<style scoped>\n",
       "    .dataframe tbody tr th:only-of-type {\n",
       "        vertical-align: middle;\n",
       "    }\n",
       "\n",
       "    .dataframe tbody tr th {\n",
       "        vertical-align: top;\n",
       "    }\n",
       "\n",
       "    .dataframe thead th {\n",
       "        text-align: right;\n",
       "    }\n",
       "</style>\n",
       "<table border=\"1\" class=\"dataframe\">\n",
       "  <thead>\n",
       "    <tr style=\"text-align: right;\">\n",
       "      <th></th>\n",
       "      <th>Type</th>\n",
       "      <th>Days for shipment (scheduled)</th>\n",
       "      <th>Delivery Status</th>\n",
       "      <th>Late_delivery_risk</th>\n",
       "      <th>Customer Segment</th>\n",
       "      <th>Customer Zipcode</th>\n",
       "      <th>Department Id</th>\n",
       "      <th>Department Name</th>\n",
       "      <th>Latitude</th>\n",
       "      <th>Longitude</th>\n",
       "      <th>...</th>\n",
       "      <th>Order Item Id</th>\n",
       "      <th>Order Item Product Price</th>\n",
       "      <th>Order Item Profit Ratio</th>\n",
       "      <th>Order Item Quantity</th>\n",
       "      <th>Sales</th>\n",
       "      <th>Order Profit Per Order</th>\n",
       "      <th>Order Region</th>\n",
       "      <th>Shipping Mode</th>\n",
       "      <th>order date y-m</th>\n",
       "      <th>shipping date y-m</th>\n",
       "    </tr>\n",
       "  </thead>\n",
       "  <tbody>\n",
       "    <tr>\n",
       "      <th>0</th>\n",
       "      <td>TRANSFER</td>\n",
       "      <td>4</td>\n",
       "      <td>Shipping on time</td>\n",
       "      <td>0</td>\n",
       "      <td>Consumer</td>\n",
       "      <td>725.0</td>\n",
       "      <td>5</td>\n",
       "      <td>Golf</td>\n",
       "      <td>18.253332</td>\n",
       "      <td>-66.370514</td>\n",
       "      <td>...</td>\n",
       "      <td>2420</td>\n",
       "      <td>39.990002</td>\n",
       "      <td>0.50</td>\n",
       "      <td>5</td>\n",
       "      <td>199.949997</td>\n",
       "      <td>83.980003</td>\n",
       "      <td>Caribbean</td>\n",
       "      <td>Standard Class</td>\n",
       "      <td>2015-01</td>\n",
       "      <td>2015-01</td>\n",
       "    </tr>\n",
       "    <tr>\n",
       "      <th>1</th>\n",
       "      <td>TRANSFER</td>\n",
       "      <td>4</td>\n",
       "      <td>Late delivery</td>\n",
       "      <td>1</td>\n",
       "      <td>Consumer</td>\n",
       "      <td>725.0</td>\n",
       "      <td>4</td>\n",
       "      <td>Apparel</td>\n",
       "      <td>18.292149</td>\n",
       "      <td>-66.370613</td>\n",
       "      <td>...</td>\n",
       "      <td>989</td>\n",
       "      <td>59.990002</td>\n",
       "      <td>-0.55</td>\n",
       "      <td>5</td>\n",
       "      <td>299.950012</td>\n",
       "      <td>-155.899994</td>\n",
       "      <td>Central America</td>\n",
       "      <td>Standard Class</td>\n",
       "      <td>2015-01</td>\n",
       "      <td>2015-01</td>\n",
       "    </tr>\n",
       "    <tr>\n",
       "      <th>2</th>\n",
       "      <td>TRANSFER</td>\n",
       "      <td>4</td>\n",
       "      <td>Advance shipping</td>\n",
       "      <td>0</td>\n",
       "      <td>Corporate</td>\n",
       "      <td>94541.0</td>\n",
       "      <td>5</td>\n",
       "      <td>Golf</td>\n",
       "      <td>37.675510</td>\n",
       "      <td>-122.049683</td>\n",
       "      <td>...</td>\n",
       "      <td>922</td>\n",
       "      <td>39.990002</td>\n",
       "      <td>0.33</td>\n",
       "      <td>2</td>\n",
       "      <td>79.980003</td>\n",
       "      <td>23.389999</td>\n",
       "      <td>South America</td>\n",
       "      <td>Standard Class</td>\n",
       "      <td>2015-01</td>\n",
       "      <td>2015-01</td>\n",
       "    </tr>\n",
       "    <tr>\n",
       "      <th>3</th>\n",
       "      <td>TRANSFER</td>\n",
       "      <td>4</td>\n",
       "      <td>Advance shipping</td>\n",
       "      <td>0</td>\n",
       "      <td>Consumer</td>\n",
       "      <td>725.0</td>\n",
       "      <td>5</td>\n",
       "      <td>Golf</td>\n",
       "      <td>18.202093</td>\n",
       "      <td>-66.370583</td>\n",
       "      <td>...</td>\n",
       "      <td>3424</td>\n",
       "      <td>39.990002</td>\n",
       "      <td>0.08</td>\n",
       "      <td>5</td>\n",
       "      <td>199.949997</td>\n",
       "      <td>13.260000</td>\n",
       "      <td>South America</td>\n",
       "      <td>Standard Class</td>\n",
       "      <td>2015-01</td>\n",
       "      <td>2015-01</td>\n",
       "    </tr>\n",
       "    <tr>\n",
       "      <th>4</th>\n",
       "      <td>TRANSFER</td>\n",
       "      <td>4</td>\n",
       "      <td>Late delivery</td>\n",
       "      <td>1</td>\n",
       "      <td>Consumer</td>\n",
       "      <td>725.0</td>\n",
       "      <td>6</td>\n",
       "      <td>Outdoors</td>\n",
       "      <td>18.215712</td>\n",
       "      <td>-66.370560</td>\n",
       "      <td>...</td>\n",
       "      <td>2749</td>\n",
       "      <td>47.990002</td>\n",
       "      <td>-0.06</td>\n",
       "      <td>5</td>\n",
       "      <td>239.949997</td>\n",
       "      <td>-14.280000</td>\n",
       "      <td>Caribbean</td>\n",
       "      <td>Standard Class</td>\n",
       "      <td>2015-01</td>\n",
       "      <td>2015-01</td>\n",
       "    </tr>\n",
       "    <tr>\n",
       "      <th>...</th>\n",
       "      <td>...</td>\n",
       "      <td>...</td>\n",
       "      <td>...</td>\n",
       "      <td>...</td>\n",
       "      <td>...</td>\n",
       "      <td>...</td>\n",
       "      <td>...</td>\n",
       "      <td>...</td>\n",
       "      <td>...</td>\n",
       "      <td>...</td>\n",
       "      <td>...</td>\n",
       "      <td>...</td>\n",
       "      <td>...</td>\n",
       "      <td>...</td>\n",
       "      <td>...</td>\n",
       "      <td>...</td>\n",
       "      <td>...</td>\n",
       "      <td>...</td>\n",
       "      <td>...</td>\n",
       "      <td>...</td>\n",
       "      <td>...</td>\n",
       "    </tr>\n",
       "    <tr>\n",
       "      <th>172757</th>\n",
       "      <td>CASH</td>\n",
       "      <td>4</td>\n",
       "      <td>Late delivery</td>\n",
       "      <td>1</td>\n",
       "      <td>Consumer</td>\n",
       "      <td>725.0</td>\n",
       "      <td>4</td>\n",
       "      <td>Apparel</td>\n",
       "      <td>18.289610</td>\n",
       "      <td>-66.037056</td>\n",
       "      <td>...</td>\n",
       "      <td>180475</td>\n",
       "      <td>215.820007</td>\n",
       "      <td>0.26</td>\n",
       "      <td>1</td>\n",
       "      <td>215.820007</td>\n",
       "      <td>54.430000</td>\n",
       "      <td>Eastern Asia</td>\n",
       "      <td>Standard Class</td>\n",
       "      <td>2018-01</td>\n",
       "      <td>2018-02</td>\n",
       "    </tr>\n",
       "    <tr>\n",
       "      <th>172758</th>\n",
       "      <td>CASH</td>\n",
       "      <td>4</td>\n",
       "      <td>Late delivery</td>\n",
       "      <td>1</td>\n",
       "      <td>Consumer</td>\n",
       "      <td>725.0</td>\n",
       "      <td>4</td>\n",
       "      <td>Apparel</td>\n",
       "      <td>18.239115</td>\n",
       "      <td>-66.037056</td>\n",
       "      <td>...</td>\n",
       "      <td>180160</td>\n",
       "      <td>215.820007</td>\n",
       "      <td>0.35</td>\n",
       "      <td>1</td>\n",
       "      <td>215.820007</td>\n",
       "      <td>64.209999</td>\n",
       "      <td>Southeast Asia</td>\n",
       "      <td>Standard Class</td>\n",
       "      <td>2018-01</td>\n",
       "      <td>2018-02</td>\n",
       "    </tr>\n",
       "    <tr>\n",
       "      <th>172759</th>\n",
       "      <td>CASH</td>\n",
       "      <td>4</td>\n",
       "      <td>Late delivery</td>\n",
       "      <td>1</td>\n",
       "      <td>Consumer</td>\n",
       "      <td>725.0</td>\n",
       "      <td>4</td>\n",
       "      <td>Apparel</td>\n",
       "      <td>18.209925</td>\n",
       "      <td>-66.037056</td>\n",
       "      <td>...</td>\n",
       "      <td>180409</td>\n",
       "      <td>215.820007</td>\n",
       "      <td>0.38</td>\n",
       "      <td>1</td>\n",
       "      <td>215.820007</td>\n",
       "      <td>66.360001</td>\n",
       "      <td>South Asia</td>\n",
       "      <td>Standard Class</td>\n",
       "      <td>2018-01</td>\n",
       "      <td>2018-02</td>\n",
       "    </tr>\n",
       "    <tr>\n",
       "      <th>172760</th>\n",
       "      <td>DEBIT</td>\n",
       "      <td>1</td>\n",
       "      <td>Late delivery</td>\n",
       "      <td>1</td>\n",
       "      <td>Consumer</td>\n",
       "      <td>725.0</td>\n",
       "      <td>4</td>\n",
       "      <td>Apparel</td>\n",
       "      <td>18.229307</td>\n",
       "      <td>-66.037056</td>\n",
       "      <td>...</td>\n",
       "      <td>180394</td>\n",
       "      <td>215.820007</td>\n",
       "      <td>0.28</td>\n",
       "      <td>1</td>\n",
       "      <td>215.820007</td>\n",
       "      <td>51.369999</td>\n",
       "      <td>South Asia</td>\n",
       "      <td>First Class</td>\n",
       "      <td>2018-01</td>\n",
       "      <td>2018-02</td>\n",
       "    </tr>\n",
       "    <tr>\n",
       "      <th>172761</th>\n",
       "      <td>DEBIT</td>\n",
       "      <td>1</td>\n",
       "      <td>Late delivery</td>\n",
       "      <td>1</td>\n",
       "      <td>Consumer</td>\n",
       "      <td>725.0</td>\n",
       "      <td>4</td>\n",
       "      <td>Apparel</td>\n",
       "      <td>18.289902</td>\n",
       "      <td>-66.037064</td>\n",
       "      <td>...</td>\n",
       "      <td>180446</td>\n",
       "      <td>215.820007</td>\n",
       "      <td>0.30</td>\n",
       "      <td>1</td>\n",
       "      <td>215.820007</td>\n",
       "      <td>53.740002</td>\n",
       "      <td>Southeast Asia</td>\n",
       "      <td>First Class</td>\n",
       "      <td>2018-01</td>\n",
       "      <td>2018-02</td>\n",
       "    </tr>\n",
       "  </tbody>\n",
       "</table>\n",
       "<p>172762 rows × 23 columns</p>\n",
       "</div>"
      ],
      "text/plain": [
       "            Type  Days for shipment (scheduled)   Delivery Status  \\\n",
       "0       TRANSFER                              4  Shipping on time   \n",
       "1       TRANSFER                              4     Late delivery   \n",
       "2       TRANSFER                              4  Advance shipping   \n",
       "3       TRANSFER                              4  Advance shipping   \n",
       "4       TRANSFER                              4     Late delivery   \n",
       "...          ...                            ...               ...   \n",
       "172757      CASH                              4     Late delivery   \n",
       "172758      CASH                              4     Late delivery   \n",
       "172759      CASH                              4     Late delivery   \n",
       "172760     DEBIT                              1     Late delivery   \n",
       "172761     DEBIT                              1     Late delivery   \n",
       "\n",
       "        Late_delivery_risk Customer Segment  Customer Zipcode  Department Id  \\\n",
       "0                        0         Consumer             725.0              5   \n",
       "1                        1         Consumer             725.0              4   \n",
       "2                        0        Corporate           94541.0              5   \n",
       "3                        0         Consumer             725.0              5   \n",
       "4                        1         Consumer             725.0              6   \n",
       "...                    ...              ...               ...            ...   \n",
       "172757                   1         Consumer             725.0              4   \n",
       "172758                   1         Consumer             725.0              4   \n",
       "172759                   1         Consumer             725.0              4   \n",
       "172760                   1         Consumer             725.0              4   \n",
       "172761                   1         Consumer             725.0              4   \n",
       "\n",
       "       Department Name   Latitude   Longitude  ... Order Item Id  \\\n",
       "0                 Golf  18.253332  -66.370514  ...          2420   \n",
       "1              Apparel  18.292149  -66.370613  ...           989   \n",
       "2                 Golf  37.675510 -122.049683  ...           922   \n",
       "3                 Golf  18.202093  -66.370583  ...          3424   \n",
       "4             Outdoors  18.215712  -66.370560  ...          2749   \n",
       "...                ...        ...         ...  ...           ...   \n",
       "172757         Apparel  18.289610  -66.037056  ...        180475   \n",
       "172758         Apparel  18.239115  -66.037056  ...        180160   \n",
       "172759         Apparel  18.209925  -66.037056  ...        180409   \n",
       "172760         Apparel  18.229307  -66.037056  ...        180394   \n",
       "172761         Apparel  18.289902  -66.037064  ...        180446   \n",
       "\n",
       "        Order Item Product Price  Order Item Profit Ratio  \\\n",
       "0                      39.990002                     0.50   \n",
       "1                      59.990002                    -0.55   \n",
       "2                      39.990002                     0.33   \n",
       "3                      39.990002                     0.08   \n",
       "4                      47.990002                    -0.06   \n",
       "...                          ...                      ...   \n",
       "172757                215.820007                     0.26   \n",
       "172758                215.820007                     0.35   \n",
       "172759                215.820007                     0.38   \n",
       "172760                215.820007                     0.28   \n",
       "172761                215.820007                     0.30   \n",
       "\n",
       "        Order Item Quantity       Sales  Order Profit Per Order  \\\n",
       "0                         5  199.949997               83.980003   \n",
       "1                         5  299.950012             -155.899994   \n",
       "2                         2   79.980003               23.389999   \n",
       "3                         5  199.949997               13.260000   \n",
       "4                         5  239.949997              -14.280000   \n",
       "...                     ...         ...                     ...   \n",
       "172757                    1  215.820007               54.430000   \n",
       "172758                    1  215.820007               64.209999   \n",
       "172759                    1  215.820007               66.360001   \n",
       "172760                    1  215.820007               51.369999   \n",
       "172761                    1  215.820007               53.740002   \n",
       "\n",
       "           Order Region   Shipping Mode  order date y-m shipping date y-m  \n",
       "0             Caribbean  Standard Class         2015-01           2015-01  \n",
       "1       Central America  Standard Class         2015-01           2015-01  \n",
       "2         South America  Standard Class         2015-01           2015-01  \n",
       "3         South America  Standard Class         2015-01           2015-01  \n",
       "4             Caribbean  Standard Class         2015-01           2015-01  \n",
       "...                 ...             ...             ...               ...  \n",
       "172757     Eastern Asia  Standard Class         2018-01           2018-02  \n",
       "172758   Southeast Asia  Standard Class         2018-01           2018-02  \n",
       "172759       South Asia  Standard Class         2018-01           2018-02  \n",
       "172760       South Asia     First Class         2018-01           2018-02  \n",
       "172761   Southeast Asia     First Class         2018-01           2018-02  \n",
       "\n",
       "[172762 rows x 23 columns]"
      ]
     },
     "execution_count": 3,
     "metadata": {},
     "output_type": "execute_result"
    }
   ],
   "source": [
    "df"
   ]
  },
  {
   "cell_type": "markdown",
   "id": "58513f2f",
   "metadata": {},
   "source": [
    "#### Onehot Encoded df"
   ]
  },
  {
   "cell_type": "code",
   "execution_count": 4,
   "id": "8347759f",
   "metadata": {},
   "outputs": [],
   "source": [
    "df = df.drop(columns=[\n",
    "    'Late_delivery_risk'\n",
    "], axis=1)"
   ]
  },
  {
   "cell_type": "code",
   "execution_count": 5,
   "id": "f5ffe610",
   "metadata": {},
   "outputs": [],
   "source": [
    "df_obj = df.select_dtypes(include='object')\n",
    "df_obj.drop(columns=['Delivery Status'], axis=1, inplace=True)"
   ]
  },
  {
   "cell_type": "code",
   "execution_count": 6,
   "id": "55928cad",
   "metadata": {},
   "outputs": [],
   "source": [
    "#one hot encoder\n",
    "def onehotencoder(col):\n",
    "    \n",
    "    ohe = OneHotEncoder()\n",
    "    ohe_array = ohe.fit_transform((pd.DataFrame(col))).toarray()\n",
    "\n",
    "    feature_labels = np.array(ohe.categories_).ravel()\n",
    "\n",
    "\n",
    "    df_obj = pd.DataFrame(ohe_array, columns=feature_labels)\n",
    "    \n",
    "    return df_obj"
   ]
  },
  {
   "cell_type": "code",
   "execution_count": 7,
   "id": "ceaaa5c7",
   "metadata": {},
   "outputs": [],
   "source": [
    "df_ohe = pd.DataFrame()\n",
    "for c in df_obj.columns:\n",
    "    one_hot = onehotencoder(df_obj[c])\n",
    "    df_ohe = pd.concat([df_ohe, one_hot], axis=1) "
   ]
  },
  {
   "cell_type": "code",
   "execution_count": 8,
   "id": "c4777561",
   "metadata": {},
   "outputs": [],
   "source": [
    "df_cont_var = df.select_dtypes(exclude='object')"
   ]
  },
  {
   "cell_type": "code",
   "execution_count": 9,
   "id": "54fc0eab",
   "metadata": {},
   "outputs": [],
   "source": [
    "df_ohe = pd.concat([df_cont_var, df_ohe], axis=1)"
   ]
  },
  {
   "cell_type": "code",
   "execution_count": 10,
   "id": "f7098497",
   "metadata": {},
   "outputs": [],
   "source": [
    "df_ohe = pd.concat([df_ohe, df['Delivery Status'] ], axis=1)"
   ]
  },
  {
   "cell_type": "code",
   "execution_count": 11,
   "id": "281a08cd",
   "metadata": {},
   "outputs": [],
   "source": [
    "df=df_ohe"
   ]
  },
  {
   "cell_type": "code",
   "execution_count": 12,
   "id": "cc44a569",
   "metadata": {},
   "outputs": [],
   "source": [
    "# y variable values set equal to label encode the dataframes column being used for y\n",
    "le = LabelEncoder()\n",
    "y = le.fit_transform(df['Delivery Status'])"
   ]
  },
  {
   "cell_type": "code",
   "execution_count": 13,
   "id": "96149215",
   "metadata": {},
   "outputs": [],
   "source": [
    "# x variable\n",
    "X = df.drop(columns=['Delivery Status'], axis=1)"
   ]
  },
  {
   "cell_type": "code",
   "execution_count": 14,
   "id": "c8964458",
   "metadata": {},
   "outputs": [],
   "source": [
    "X_train, X_test, y_train, y_test = train_test_split(X, y, train_size=.8, test_size=.2)"
   ]
  },
  {
   "cell_type": "markdown",
   "id": "d48ce793",
   "metadata": {},
   "source": [
    "### Logistic Regression Model"
   ]
  },
  {
   "cell_type": "code",
   "execution_count": 15,
   "id": "969063f7",
   "metadata": {},
   "outputs": [
    {
     "data": {
      "text/plain": [
       "StandardScaler()"
      ]
     },
     "execution_count": 15,
     "metadata": {},
     "output_type": "execute_result"
    }
   ],
   "source": [
    "# scaling data\n",
    "scaler = StandardScaler()\n",
    "scaler.fit(X_train)"
   ]
  },
  {
   "cell_type": "code",
   "execution_count": 16,
   "id": "a472b5ca",
   "metadata": {},
   "outputs": [],
   "source": [
    "scaler_x_train = scaler.transform(X_train)\n",
    "scaler_x_test = scaler.transform(X_test)"
   ]
  },
  {
   "cell_type": "code",
   "execution_count": 17,
   "id": "6ae257b5",
   "metadata": {},
   "outputs": [
    {
     "data": {
      "text/plain": [
       "LogisticRegression(random_state=42)"
      ]
     },
     "execution_count": 17,
     "metadata": {},
     "output_type": "execute_result"
    }
   ],
   "source": [
    "logistic_regression = LogisticRegression(random_state=42)\n",
    "logistic_regression.fit(scaler_x_train, y_train)"
   ]
  },
  {
   "cell_type": "code",
   "execution_count": 18,
   "id": "2947695c",
   "metadata": {},
   "outputs": [],
   "source": [
    "lr_pred_train = logistic_regression.predict(scaler_x_train)"
   ]
  },
  {
   "cell_type": "code",
   "execution_count": 19,
   "id": "8451666f",
   "metadata": {},
   "outputs": [
    {
     "data": {
      "image/png": "[encoded data removed]",
      "text/plain": [
       "<Figure size 432x288 with 2 Axes>"
      ]
     },
     "metadata": {
      "needs_background": "light"
     },
     "output_type": "display_data"
    }
   ],
   "source": [
    "plot_confusion_matrix(logistic_regression, scaler_x_train, y_train,\n",
    "                      cmap=plt.cm.Blues)\n",
    "\n",
    "plt.xticks(ticks=range(0,len(le.classes_)),labels=le.classes_, rotation=45)\n",
    "plt.yticks(ticks=range(0,len(le.classes_)),labels=le.classes_)\n",
    "\n",
    "plt.show()"
   ]
  },
  {
   "cell_type": "code",
   "execution_count": 20,
   "id": "9a3cc1cb",
   "metadata": {},
   "outputs": [
    {
     "name": "stdout",
     "output_type": "stream",
     "text": [
      "                  precision    recall  f1-score   support\n",
      "\n",
      "Advance shipping       0.44      0.68      0.53     33212\n",
      "   Late delivery       0.71      0.74      0.72     79363\n",
      "Shipping on time       0.54      0.10      0.17     25634\n",
      "\n",
      "        accuracy                           0.61    138209\n",
      "       macro avg       0.56      0.51      0.48    138209\n",
      "    weighted avg       0.62      0.61      0.58    138209\n",
      "\n"
     ]
    }
   ],
   "source": [
    "print(classification_report(y_train, lr_pred_train, target_names=le.classes_))"
   ]
  },
  {
   "cell_type": "code",
   "execution_count": 21,
   "id": "d60de1f9",
   "metadata": {},
   "outputs": [],
   "source": [
    "lr_pred_test = logistic_regression.predict(scaler_x_test)"
   ]
  },
  {
   "cell_type": "code",
   "execution_count": 22,
   "id": "bcc0f735",
   "metadata": {},
   "outputs": [
    {
     "data": {
      "image/png": "[encoded data removed]",
      "text/plain": [
       "<Figure size 432x288 with 2 Axes>"
      ]
     },
     "metadata": {
      "needs_background": "light"
     },
     "output_type": "display_data"
    }
   ],
   "source": [
    "plot_confusion_matrix(logistic_regression, scaler_x_test, y_test,\n",
    "                      cmap=plt.cm.Blues)\n",
    "\n",
    "plt.xticks(ticks=range(0,len(le.classes_)),labels=le.classes_, rotation=45)\n",
    "plt.yticks(ticks=range(0,len(le.classes_)),labels=le.classes_)\n",
    "\n",
    "plt.show()"
   ]
  },
  {
   "cell_type": "code",
   "execution_count": 23,
   "id": "7418bde3",
   "metadata": {},
   "outputs": [
    {
     "name": "stdout",
     "output_type": "stream",
     "text": [
      "                  precision    recall  f1-score   support\n",
      "\n",
      "Advance shipping       0.44      0.68      0.53      8380\n",
      "   Late delivery       0.71      0.73      0.72     19613\n",
      "Shipping on time       0.54      0.10      0.17      6560\n",
      "\n",
      "        accuracy                           0.60     34553\n",
      "       macro avg       0.56      0.50      0.48     34553\n",
      "    weighted avg       0.61      0.60      0.57     34553\n",
      "\n"
     ]
    }
   ],
   "source": [
    "print(classification_report(y_test, lr_pred_test, target_names=le.classes_))"
   ]
  },
  {
   "cell_type": "code",
   "execution_count": 24,
   "id": "25bd9007",
   "metadata": {},
   "outputs": [],
   "source": [
    "#.60 before dropped high correlation columns\n",
    "#results the same with correlation change"
   ]
  },
  {
   "cell_type": "code",
   "execution_count": 25,
   "id": "4aa1e768",
   "metadata": {},
   "outputs": [],
   "source": [
    "#.60 before delivery status change\n",
    "#.71 after delivery status change"
   ]
  }
 ],
 "metadata": {
  "kernelspec": {
   "display_name": "Python 3",
   "language": "python",
   "name": "python3"
  },
  "language_info": {
   "codemirror_mode": {
    "name": "ipython",
    "version": 3
   },
   "file_extension": ".py",
   "mimetype": "text/x-python",
   "name": "python",
   "nbconvert_exporter": "python",
   "pygments_lexer": "ipython3",
   "version": "3.8.8"
  }
 },
 "nbformat": 4,
 "nbformat_minor": 5
}
