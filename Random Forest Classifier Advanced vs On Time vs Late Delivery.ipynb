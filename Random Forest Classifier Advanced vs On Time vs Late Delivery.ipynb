{
 "cells": [
  {
   "cell_type": "code",
   "execution_count": 1,
   "id": "aa2f25b5",
   "metadata": {},
   "outputs": [],
   "source": [
    "import pandas as pd\n",
    "import numpy as np\n",
    "import seaborn as sns\n",
    "from sklearn.preprocessing import OneHotEncoder, LabelEncoder\n",
    "from sklearn.compose import make_column_selector as selector\n",
    "from sklearn.metrics import mean_squared_error\n",
    "from sklearn.model_selection import train_test_split\n",
    "from sklearn.preprocessing import StandardScaler\n",
    "from sklearn.ensemble import RandomForestClassifier\n",
    "from sklearn.metrics import classification_report\n",
    "from sklearn.metrics import confusion_matrix, plot_confusion_matrix\n",
    "import matplotlib.pyplot as plt\n",
    "import warnings\n",
    "warnings.filterwarnings('ignore')"
   ]
  },
  {
   "cell_type": "code",
   "execution_count": 2,
   "id": "23ea3138",
   "metadata": {},
   "outputs": [],
   "source": [
    "# all columns are numerical (categorical columns have been converted)\n",
    "df = pd.read_csv('df_adv_ontime_late.csv')\n",
    "df.drop(columns=['Unnamed: 0'], axis=1, inplace=True)"
   ]
  },
  {
   "cell_type": "code",
   "execution_count": 3,
   "id": "3334658e",
   "metadata": {},
   "outputs": [],
   "source": [
    "df = df.drop(columns=[\n",
    "    'Late_delivery_risk'\n",
    "], axis=1)"
   ]
  },
  {
   "cell_type": "code",
   "execution_count": 4,
   "id": "27b47763",
   "metadata": {},
   "outputs": [],
   "source": [
    "df_obj = df.select_dtypes(include='object')\n",
    "df_obj.drop(columns=['Delivery Status'], axis=1, inplace=True)"
   ]
  },
  {
   "cell_type": "code",
   "execution_count": 5,
   "id": "175ffc47",
   "metadata": {},
   "outputs": [],
   "source": [
    "#one hot encoder\n",
    "def onehotencoder(col):\n",
    "    \n",
    "    ohe = OneHotEncoder()\n",
    "    ohe_array = ohe.fit_transform((pd.DataFrame(col))).toarray()\n",
    "\n",
    "    feature_labels = np.array(ohe.categories_).ravel()\n",
    "\n",
    "\n",
    "    df_obj = pd.DataFrame(ohe_array, columns=feature_labels)\n",
    "    \n",
    "    return df_obj"
   ]
  },
  {
   "cell_type": "code",
   "execution_count": 6,
   "id": "8da136e0",
   "metadata": {},
   "outputs": [],
   "source": [
    "df_ohe = pd.DataFrame()\n",
    "for c in df_obj.columns:\n",
    "    one_hot = onehotencoder(df_obj[c])\n",
    "    df_ohe = pd.concat([df_ohe, one_hot], axis=1) "
   ]
  },
  {
   "cell_type": "code",
   "execution_count": 7,
   "id": "642f93cd",
   "metadata": {},
   "outputs": [],
   "source": [
    "df_cont_var = df.select_dtypes(exclude='object')"
   ]
  },
  {
   "cell_type": "code",
   "execution_count": 8,
   "id": "3ac11bed",
   "metadata": {},
   "outputs": [],
   "source": [
    "df_ohe = pd.concat([df_cont_var, df_ohe], axis=1)"
   ]
  },
  {
   "cell_type": "code",
   "execution_count": 9,
   "id": "6891c08b",
   "metadata": {},
   "outputs": [],
   "source": [
    "df_ohe = pd.concat([df_ohe, df['Delivery Status'] ], axis=1)"
   ]
  },
  {
   "cell_type": "code",
   "execution_count": 10,
   "id": "4d05c374",
   "metadata": {},
   "outputs": [],
   "source": [
    "df=df_ohe"
   ]
  },
  {
   "cell_type": "code",
   "execution_count": 11,
   "id": "cc44a569",
   "metadata": {},
   "outputs": [],
   "source": [
    "# y variable values set equal to label encode the dataframes column being used for y\n",
    "le = LabelEncoder()\n",
    "y = le.fit_transform(df['Delivery Status'])"
   ]
  },
  {
   "cell_type": "code",
   "execution_count": 12,
   "id": "96149215",
   "metadata": {},
   "outputs": [],
   "source": [
    "# x variable\n",
    "X = df.drop(columns=['Delivery Status'], axis=1)"
   ]
  },
  {
   "cell_type": "code",
   "execution_count": 13,
   "id": "c8964458",
   "metadata": {},
   "outputs": [],
   "source": [
    "X_train, X_test, y_train, y_test = train_test_split(X, y, train_size=.8, test_size=.2)"
   ]
  },
  {
   "cell_type": "markdown",
   "id": "d48ce793",
   "metadata": {},
   "source": [
    "### Random Forest Classifier Model"
   ]
  },
  {
   "cell_type": "code",
   "execution_count": 14,
   "id": "969063f7",
   "metadata": {},
   "outputs": [
    {
     "data": {
      "text/plain": [
       "StandardScaler()"
      ]
     },
     "execution_count": 14,
     "metadata": {},
     "output_type": "execute_result"
    }
   ],
   "source": [
    "# scaling data\n",
    "scaler = StandardScaler()\n",
    "scaler.fit(X_train)"
   ]
  },
  {
   "cell_type": "code",
   "execution_count": 15,
   "id": "a472b5ca",
   "metadata": {},
   "outputs": [],
   "source": [
    "scaler_x_train = scaler.transform(X_train)\n",
    "scaler_x_test = scaler.transform(X_test)"
   ]
  },
  {
   "cell_type": "code",
   "execution_count": 16,
   "id": "6ae257b5",
   "metadata": {},
   "outputs": [],
   "source": [
    "rfc = RandomForestClassifier()\n",
    "rfc.fit(scaler_x_train, y_train)\n",
    "rfc_pred_train = rfc.predict(scaler_x_train)"
   ]
  },
  {
   "cell_type": "markdown",
   "id": "afc4e896",
   "metadata": {},
   "source": [
    "### Test Model"
   ]
  },
  {
   "cell_type": "code",
   "execution_count": 17,
   "id": "831231ad",
   "metadata": {},
   "outputs": [],
   "source": [
    "rfc_pred_test = rfc.predict(scaler_x_test)"
   ]
  },
  {
   "cell_type": "code",
   "execution_count": 18,
   "id": "8f40cef5",
   "metadata": {},
   "outputs": [
    {
     "data": {
      "image/png": "[encoded data removed]",
      "text/plain": [
       "<Figure size 432x288 with 2 Axes>"
      ]
     },
     "metadata": {
      "needs_background": "light"
     },
     "output_type": "display_data"
    }
   ],
   "source": [
    "plot_confusion_matrix(rfc, scaler_x_test, y_test,\n",
    "                      cmap=plt.cm.Reds)\n",
    "\n",
    "plt.xticks(ticks=range(0,len(le.classes_)),labels=le.classes_, rotation=45)\n",
    "plt.yticks(ticks=range(0,len(le.classes_)),labels=le.classes_)\n",
    "\n",
    "plt.show()"
   ]
  },
  {
   "cell_type": "code",
   "execution_count": 19,
   "id": "7418bde3",
   "metadata": {},
   "outputs": [
    {
     "name": "stdout",
     "output_type": "stream",
     "text": [
      "                  precision    recall  f1-score   support\n",
      "\n",
      "Advance shipping       0.59      0.72      0.65      8457\n",
      "   Late delivery       0.76      0.86      0.81     19645\n",
      "Shipping on time       0.82      0.25      0.39      6451\n",
      "\n",
      "        accuracy                           0.72     34553\n",
      "       macro avg       0.72      0.61      0.62     34553\n",
      "    weighted avg       0.73      0.72      0.69     34553\n",
      "\n"
     ]
    }
   ],
   "source": [
    "print(classification_report(y_test, rfc_pred_test, target_names=le.classes_))"
   ]
  },
  {
   "cell_type": "code",
   "execution_count": 20,
   "id": "19d13e45",
   "metadata": {},
   "outputs": [],
   "source": [
    "#.71 before corr change\n",
    "# did not change"
   ]
  },
  {
   "cell_type": "code",
   "execution_count": 21,
   "id": "7e534bb3",
   "metadata": {},
   "outputs": [],
   "source": [
    "#.72 before delivery status change\n",
    "#.77 after delivery status change"
   ]
  }
 ],
 "metadata": {
  "kernelspec": {
   "display_name": "Python 3",
   "language": "python",
   "name": "python3"
  },
  "language_info": {
   "codemirror_mode": {
    "name": "ipython",
    "version": 3
   },
   "file_extension": ".py",
   "mimetype": "text/x-python",
   "name": "python",
   "nbconvert_exporter": "python",
   "pygments_lexer": "ipython3",
   "version": "3.8.8"
  }
 },
 "nbformat": 4,
 "nbformat_minor": 5
}
