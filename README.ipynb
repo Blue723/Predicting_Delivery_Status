{
 "cells": [
  {
   "cell_type": "markdown",
   "id": "23d6c860",
   "metadata": {},
   "source": [
    "### README"
   ]
  },
  {
   "cell_type": "markdown",
   "id": "1cc16233",
   "metadata": {},
   "source": [
    "# Predicting Shipping Order Delivery Status"
   ]
  },
  {
   "cell_type": "markdown",
   "id": "4c006f9d",
   "metadata": {},
   "source": [
    "### Business Understanding"
   ]
  },
  {
   "cell_type": "markdown",
   "id": "5342e7d8",
   "metadata": {},
   "source": [
    "The project will help predict a packages deliverable status as either Late Delivery, Advance Shipping, and Ship on time. "
   ]
  },
  {
   "cell_type": "markdown",
   "id": "8b425711",
   "metadata": {},
   "source": [
    "##### Data"
   ]
  },
  {
   "cell_type": "markdown",
   "id": "f5d0d8fa",
   "metadata": {},
   "source": [
    "The data being used is information from a company's supply chain about shipping orders like payment type, customer information, order information, delivery dates and status. The timeframe of the model is from 2015-01 - 2018-02."
   ]
  },
  {
   "cell_type": "markdown",
   "id": "1fdd4fd6",
   "metadata": {},
   "source": [
    "Some features were removed because they cause data leakage, redundant information, or added too many features when converting categorical data. "
   ]
  },
  {
   "cell_type": "markdown",
   "id": "d1ea489c",
   "metadata": {},
   "source": [
    "##### Method"
   ]
  },
  {
   "cell_type": "markdown",
   "id": "b23daab3",
   "metadata": {},
   "source": [
    "This project will observe the delivery status of orders compared to some features, and create a model to predict if the order is late, on time, or in advance. I compared delivery status to each month, shipping mode, market, and customer segment. Each feature showed about half the orders are late delivery.For predicting models, I used logistic regression as a baseline, then random forest and XGBoost, and random search to optimize parameters. "
   ]
  },
  {
   "cell_type": "markdown",
   "id": "4e569e52",
   "metadata": {},
   "source": [
    "### EDA"
   ]
  },
  {
   "cell_type": "markdown",
   "id": "51c3d10b",
   "metadata": {},
   "source": [
    "The overall delivery status shows more than half the orders are late delivery. "
   ]
  },
  {
   "cell_type": "markdown",
   "id": "876aa354",
   "metadata": {},
   "source": [
    "![image.png](img/eda_img/delivery_status_percent.png)"
   ]
  },
  {
   "cell_type": "markdown",
   "id": "20aae419",
   "metadata": {},
   "source": [
    "The line plot shows the orders from 2015-01 - 2017-10. "
   ]
  },
  {
   "cell_type": "markdown",
   "id": "f9709d0b",
   "metadata": {},
   "source": [
    "![image.png](img/eda_img/delivery_status_line_plot.png)"
   ]
  },
  {
   "cell_type": "markdown",
   "id": "28ab522b",
   "metadata": {},
   "source": [
    "The graph implies there is usually a drop in orders from January and Febrary."
   ]
  },
  {
   "cell_type": "markdown",
   "id": "8a90b099",
   "metadata": {},
   "source": [
    "This plot shows each month's delivery status count. "
   ]
  },
  {
   "cell_type": "markdown",
   "id": "cb5793e0",
   "metadata": {},
   "source": [
    "![image.png](img/eda_img/monthly_delivery_status.png)"
   ]
  },
  {
   "cell_type": "markdown",
   "id": "462e270c",
   "metadata": {},
   "source": [
    "Between 2500 and 3000 orders are late per month. "
   ]
  },
  {
   "cell_type": "markdown",
   "id": "eebfb280",
   "metadata": {},
   "source": [
    "***"
   ]
  },
  {
   "cell_type": "markdown",
   "id": "701524aa",
   "metadata": {},
   "source": [
    "#### Delivery Status Count in Other Features"
   ]
  },
  {
   "cell_type": "markdown",
   "id": "15ac96a6",
   "metadata": {},
   "source": [
    "![image.png](img/eda_img/shipping_mode_delivery_status.png)"
   ]
  },
  {
   "cell_type": "markdown",
   "id": "5ef01eb8",
   "metadata": {},
   "source": [
    "Here we can note that none of the First Class orders are on time, and Second Class has mostly late deliveries. Standard Class has the least relative late deliveries. "
   ]
  },
  {
   "cell_type": "markdown",
   "id": "d7cff213",
   "metadata": {},
   "source": [
    "![image.png](img/eda_img/market_delivery_status.png)"
   ]
  },
  {
   "cell_type": "markdown",
   "id": "a8d1714f",
   "metadata": {},
   "source": [
    "Here we can see a Market's Delivery Status. Each Market has about half late delivery orders. "
   ]
  },
  {
   "cell_type": "markdown",
   "id": "0afd3385",
   "metadata": {},
   "source": [
    "![image.png](img/eda_img/customer_segment_delivery_status.png)"
   ]
  },
  {
   "cell_type": "markdown",
   "id": "64d47d91",
   "metadata": {},
   "source": [
    "Each Customer Segment's Delivery status shows over half the orders are late delivery. "
   ]
  },
  {
   "cell_type": "markdown",
   "id": "e2a35359",
   "metadata": {},
   "source": [
    "##### Baseline Model"
   ]
  },
  {
   "cell_type": "markdown",
   "id": "c985b370",
   "metadata": {},
   "source": [
    "The baseline model will be based off a training set using logistic regression. This model's overall accuracy is 0.60."
   ]
  },
  {
   "cell_type": "markdown",
   "id": "642d63e2",
   "metadata": {},
   "source": [
    "![image.png](img/model_img/lr_train_conf_matx.png)"
   ]
  },
  {
   "cell_type": "markdown",
   "id": "bf9307e8",
   "metadata": {},
   "source": [
    "#### Logistic Regression Model"
   ]
  },
  {
   "cell_type": "markdown",
   "id": "bd520a0f",
   "metadata": {},
   "source": [
    "The testing set with our logistic regression does not improve overall score with 0.61."
   ]
  },
  {
   "cell_type": "markdown",
   "id": "3eacd015",
   "metadata": {},
   "source": [
    "![](img/model_img/lr_test_conf_matx.png)"
   ]
  },
  {
   "cell_type": "markdown",
   "id": "979bbec0",
   "metadata": {},
   "source": [
    "#### Random Forest Model"
   ]
  },
  {
   "cell_type": "markdown",
   "id": "341083ff",
   "metadata": {},
   "source": [
    "Random Forest test model improved overall score to 0.70."
   ]
  },
  {
   "cell_type": "markdown",
   "id": "69a154f2",
   "metadata": {},
   "source": [
    "![](img/model_img/rf_test_conf_matx.png)"
   ]
  },
  {
   "cell_type": "markdown",
   "id": "df51f772",
   "metadata": {},
   "source": [
    "#### XGBoost Model"
   ]
  },
  {
   "cell_type": "markdown",
   "id": "1b513ddf",
   "metadata": {},
   "source": [
    "XGBoost test model overall accuracy score (0.66) improves on the logistic regression models, but not random forest. "
   ]
  },
  {
   "cell_type": "markdown",
   "id": "d76539d2",
   "metadata": {},
   "source": [
    "![](img/model_img/xgb_test_conf_matx.png)"
   ]
  },
  {
   "cell_type": "markdown",
   "id": "9ae950b5",
   "metadata": {},
   "source": [
    "#### Random Search Model"
   ]
  },
  {
   "cell_type": "markdown",
   "id": "f86bc62d",
   "metadata": {},
   "source": [
    "Using random search on our Random Forest and XGBoost models to find optimal parameters to find the best predictor. "
   ]
  },
  {
   "cell_type": "markdown",
   "id": "a85d22d8",
   "metadata": {},
   "source": [
    "![](img/model_img/rs_rf_test_conf_matx.png)\n",
    "![](img/model_img/rs_xgb_test_conf_matx.png)"
   ]
  },
  {
   "cell_type": "markdown",
   "id": "6daab14c",
   "metadata": {},
   "source": [
    "Random Search for Random Forest (0.64) only does better than the logistic regression models. Random Search for XGBoost (0.71) is the best overall scoring model. "
   ]
  },
  {
   "cell_type": "markdown",
   "id": "06ec8567",
   "metadata": {},
   "source": [
    "### Conclusion"
   ]
  },
  {
   "cell_type": "markdown",
   "id": "9779bbac",
   "metadata": {},
   "source": [
    "In conclusion Random Search XGBoost marginally did the best overall score with predicting delivery status 0.71. On time shipping could take away from the overall accuracy of the model, its values could be close to the other variables, making it hard for the model to distinguish between late and advance delivery. "
   ]
  },
  {
   "cell_type": "markdown",
   "id": "69a4e72a",
   "metadata": {},
   "source": [
    "##### Next Steps"
   ]
  },
  {
   "cell_type": "markdown",
   "id": "1a0d5a66",
   "metadata": {},
   "source": [
    "Overall, there is over half late deliveries, some features delivery status were looked at, but perhaps comparing a customer's information type to their location, and see if that has an affect on delivery status. This could help identify why there are late deliveries. "
   ]
  }
 ],
 "metadata": {
  "kernelspec": {
   "display_name": "Python 3",
   "language": "python",
   "name": "python3"
  },
  "language_info": {
   "codemirror_mode": {
    "name": "ipython",
    "version": 3
   },
   "file_extension": ".py",
   "mimetype": "text/x-python",
   "name": "python",
   "nbconvert_exporter": "python",
   "pygments_lexer": "ipython3",
   "version": "3.8.8"
  }
 },
 "nbformat": 4,
 "nbformat_minor": 5
}
